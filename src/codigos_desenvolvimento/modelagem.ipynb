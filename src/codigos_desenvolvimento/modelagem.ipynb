{
  "cells": [
    {
      "cell_type": "markdown",
      "metadata": {
        "id": "2PcJln1XwsMs"
      },
      "source": [
        "# Testagem e métricas de modelos\n",
        "Documento referente ao item 4.4 da documentação (modelagem)\n",
        "\n"
      ]
    },
    {
      "cell_type": "markdown",
      "metadata": {
        "id": "wWBVVrfhiy3f"
      },
      "source": [
        "# Manipulação ⚙\n"
      ]
    },
    {
      "cell_type": "code",
      "execution_count": null,
      "metadata": {
        "colab": {
          "base_uri": "https://localhost:8080/"
        },
        "id": "rNszJa3yy833",
        "outputId": "4b3a5fa0-4766-4156-d7ac-8c1a36f5a501"
      },
      "outputs": [
        {
          "output_type": "stream",
          "name": "stdout",
          "text": [
            "Mounted at /content/drive\n"
          ]
        }
      ],
      "source": [
        "from google.colab import drive\n",
        "drive.mount('/content/drive')\n",
        "import pandas as pd\n",
        "import numpy as np\n",
        "import seaborn as sns"
      ]
    },
    {
      "cell_type": "code",
      "execution_count": null,
      "metadata": {
        "id": "n-xBTHOCwpU2",
        "colab": {
          "base_uri": "https://localhost:8080/",
          "height": 261
        },
        "outputId": "24c1954f-a6a6-42b0-ce02-66cf42afb322"
      },
      "outputs": [
        {
          "output_type": "stream",
          "name": "stderr",
          "text": [
            "/usr/local/lib/python3.7/dist-packages/IPython/core/interactiveshell.py:3326: DtypeWarning: Columns (14) have mixed types.Specify dtype option on import or set low_memory=False.\n",
            "  exec(code_obj, self.user_global_ns, self.user_ns)\n"
          ]
        },
        {
          "output_type": "execute_result",
          "data": {
            "text/plain": [
              "      ID  ORDERS_DONE  ORDERS_CANCEL  CANCELS_OPS_RT AUTO_ACEITE  \\\n",
              "0  32818          3.0            0.0             0.0        True   \n",
              "1  33051       2311.0           49.0             2.0        True   \n",
              "2  33052          0.0            2.0             1.0        True   \n",
              "3  33161       2625.0           55.0             4.0        True   \n",
              "4  33188         12.0            1.0             0.0       False   \n",
              "\n",
              "   STOREKEEPER_YEAR  \n",
              "0              34.0  \n",
              "1              24.0  \n",
              "2              24.0  \n",
              "3              28.0  \n",
              "4              23.0  "
            ],
            "text/html": [
              "\n",
              "  <div id=\"df-8589134d-51e3-43f2-abaf-966face61abd\">\n",
              "    <div class=\"colab-df-container\">\n",
              "      <div>\n",
              "<style scoped>\n",
              "    .dataframe tbody tr th:only-of-type {\n",
              "        vertical-align: middle;\n",
              "    }\n",
              "\n",
              "    .dataframe tbody tr th {\n",
              "        vertical-align: top;\n",
              "    }\n",
              "\n",
              "    .dataframe thead th {\n",
              "        text-align: right;\n",
              "    }\n",
              "</style>\n",
              "<table border=\"1\" class=\"dataframe\">\n",
              "  <thead>\n",
              "    <tr style=\"text-align: right;\">\n",
              "      <th></th>\n",
              "      <th>ID</th>\n",
              "      <th>ORDERS_DONE</th>\n",
              "      <th>ORDERS_CANCEL</th>\n",
              "      <th>CANCELS_OPS_RT</th>\n",
              "      <th>AUTO_ACEITE</th>\n",
              "      <th>STOREKEEPER_YEAR</th>\n",
              "    </tr>\n",
              "  </thead>\n",
              "  <tbody>\n",
              "    <tr>\n",
              "      <th>0</th>\n",
              "      <td>32818</td>\n",
              "      <td>3.0</td>\n",
              "      <td>0.0</td>\n",
              "      <td>0.0</td>\n",
              "      <td>True</td>\n",
              "      <td>34.0</td>\n",
              "    </tr>\n",
              "    <tr>\n",
              "      <th>1</th>\n",
              "      <td>33051</td>\n",
              "      <td>2311.0</td>\n",
              "      <td>49.0</td>\n",
              "      <td>2.0</td>\n",
              "      <td>True</td>\n",
              "      <td>24.0</td>\n",
              "    </tr>\n",
              "    <tr>\n",
              "      <th>2</th>\n",
              "      <td>33052</td>\n",
              "      <td>0.0</td>\n",
              "      <td>2.0</td>\n",
              "      <td>1.0</td>\n",
              "      <td>True</td>\n",
              "      <td>24.0</td>\n",
              "    </tr>\n",
              "    <tr>\n",
              "      <th>3</th>\n",
              "      <td>33161</td>\n",
              "      <td>2625.0</td>\n",
              "      <td>55.0</td>\n",
              "      <td>4.0</td>\n",
              "      <td>True</td>\n",
              "      <td>28.0</td>\n",
              "    </tr>\n",
              "    <tr>\n",
              "      <th>4</th>\n",
              "      <td>33188</td>\n",
              "      <td>12.0</td>\n",
              "      <td>1.0</td>\n",
              "      <td>0.0</td>\n",
              "      <td>False</td>\n",
              "      <td>23.0</td>\n",
              "    </tr>\n",
              "  </tbody>\n",
              "</table>\n",
              "</div>\n",
              "      <button class=\"colab-df-convert\" onclick=\"convertToInteractive('df-8589134d-51e3-43f2-abaf-966face61abd')\"\n",
              "              title=\"Convert this dataframe to an interactive table.\"\n",
              "              style=\"display:none;\">\n",
              "        \n",
              "  <svg xmlns=\"http://www.w3.org/2000/svg\" height=\"24px\"viewBox=\"0 0 24 24\"\n",
              "       width=\"24px\">\n",
              "    <path d=\"M0 0h24v24H0V0z\" fill=\"none\"/>\n",
              "    <path d=\"M18.56 5.44l.94 2.06.94-2.06 2.06-.94-2.06-.94-.94-2.06-.94 2.06-2.06.94zm-11 1L8.5 8.5l.94-2.06 2.06-.94-2.06-.94L8.5 2.5l-.94 2.06-2.06.94zm10 10l.94 2.06.94-2.06 2.06-.94-2.06-.94-.94-2.06-.94 2.06-2.06.94z\"/><path d=\"M17.41 7.96l-1.37-1.37c-.4-.4-.92-.59-1.43-.59-.52 0-1.04.2-1.43.59L10.3 9.45l-7.72 7.72c-.78.78-.78 2.05 0 2.83L4 21.41c.39.39.9.59 1.41.59.51 0 1.02-.2 1.41-.59l7.78-7.78 2.81-2.81c.8-.78.8-2.07 0-2.86zM5.41 20L4 18.59l7.72-7.72 1.47 1.35L5.41 20z\"/>\n",
              "  </svg>\n",
              "      </button>\n",
              "      \n",
              "  <style>\n",
              "    .colab-df-container {\n",
              "      display:flex;\n",
              "      flex-wrap:wrap;\n",
              "      gap: 12px;\n",
              "    }\n",
              "\n",
              "    .colab-df-convert {\n",
              "      background-color: #E8F0FE;\n",
              "      border: none;\n",
              "      border-radius: 50%;\n",
              "      cursor: pointer;\n",
              "      display: none;\n",
              "      fill: #1967D2;\n",
              "      height: 32px;\n",
              "      padding: 0 0 0 0;\n",
              "      width: 32px;\n",
              "    }\n",
              "\n",
              "    .colab-df-convert:hover {\n",
              "      background-color: #E2EBFA;\n",
              "      box-shadow: 0px 1px 2px rgba(60, 64, 67, 0.3), 0px 1px 3px 1px rgba(60, 64, 67, 0.15);\n",
              "      fill: #174EA6;\n",
              "    }\n",
              "\n",
              "    [theme=dark] .colab-df-convert {\n",
              "      background-color: #3B4455;\n",
              "      fill: #D2E3FC;\n",
              "    }\n",
              "\n",
              "    [theme=dark] .colab-df-convert:hover {\n",
              "      background-color: #434B5C;\n",
              "      box-shadow: 0px 1px 3px 1px rgba(0, 0, 0, 0.15);\n",
              "      filter: drop-shadow(0px 1px 2px rgba(0, 0, 0, 0.3));\n",
              "      fill: #FFFFFF;\n",
              "    }\n",
              "  </style>\n",
              "\n",
              "      <script>\n",
              "        const buttonEl =\n",
              "          document.querySelector('#df-8589134d-51e3-43f2-abaf-966face61abd button.colab-df-convert');\n",
              "        buttonEl.style.display =\n",
              "          google.colab.kernel.accessAllowed ? 'block' : 'none';\n",
              "\n",
              "        async function convertToInteractive(key) {\n",
              "          const element = document.querySelector('#df-8589134d-51e3-43f2-abaf-966face61abd');\n",
              "          const dataTable =\n",
              "            await google.colab.kernel.invokeFunction('convertToInteractive',\n",
              "                                                     [key], {});\n",
              "          if (!dataTable) return;\n",
              "\n",
              "          const docLinkHtml = 'Like what you see? Visit the ' +\n",
              "            '<a target=\"_blank\" href=https://colab.research.google.com/notebooks/data_table.ipynb>data table notebook</a>'\n",
              "            + ' to learn more about interactive tables.';\n",
              "          element.innerHTML = '';\n",
              "          dataTable['output_type'] = 'display_data';\n",
              "          await google.colab.output.renderOutput(dataTable, element);\n",
              "          const docLink = document.createElement('div');\n",
              "          docLink.innerHTML = docLinkHtml;\n",
              "          element.appendChild(docLink);\n",
              "        }\n",
              "      </script>\n",
              "    </div>\n",
              "  </div>\n",
              "  "
            ]
          },
          "metadata": {},
          "execution_count": 2
        }
      ],
      "source": [
        "# visualização da tabela de features construída anteriormente  \n",
        "df = pd.read_csv('/content/drive/Shareddrives/Grupo Rappitendeiros/all.csv', usecols = ['ID', 'ORDERS_DONE', 'ORDERS_CANCEL', 'CANCELS_OPS_RT', 'AUTO_ACEITE', 'STOREKEEPER_YEAR'])\n",
        "df.head() "
      ]
    },
    {
      "cell_type": "code",
      "execution_count": null,
      "metadata": {
        "id": "Qlu3ipedHqhZ",
        "colab": {
          "base_uri": "https://localhost:8080/",
          "height": 287
        },
        "outputId": "4de7406e-3c86-4fe3-fa90-f31daaa7554d"
      },
      "outputs": [
        {
          "output_type": "execute_result",
          "data": {
            "text/plain": [
              "   Unnamed: 0       ID  CHURN  IS_ACTIVE  CHURN_VALUE  DAILY_HOURS  \\\n",
              "0           0  1286316   True       True            3     3.995590   \n",
              "1           3  1036587   True       True            3     7.989556   \n",
              "2           4   106854   True       True            3     0.583576   \n",
              "3           5   359949   True       True            3     5.628855   \n",
              "4           6    64922   True       True            3     1.774453   \n",
              "\n",
              "   DAILY_ORDERS  MONTHLY_EARNINGS  MONTHLY_TIPS  HOURLY_MONEY  \\\n",
              "0      7.640449       1848.040000    326.571429     18.141764   \n",
              "1     16.000000        672.120000    127.666667      3.336801   \n",
              "2      0.750000         46.710000     23.666667      4.019849   \n",
              "3      3.118577        876.111667    103.583333      5.801624   \n",
              "4      1.121212        264.054000     82.600000      6.511942   \n",
              "\n",
              "   MONEY_PER_ORDER  DISTANCE_PER_ORDER  DAILY_DISTANCE  MONEY_PER_DISTANCE  \n",
              "0         8.062527            3.446071       26.329531            2.339629  \n",
              "1         1.400250            3.386037       54.176596            0.413537  \n",
              "2         2.076000            2.870784        2.153088            0.723147  \n",
              "3         9.364438            3.455666       10.776761            2.709879  \n",
              "4         7.850254            3.383588        3.793720            2.320098  "
            ],
            "text/html": [
              "\n",
              "  <div id=\"df-76cba235-842f-4154-a18e-47b97c7d961f\">\n",
              "    <div class=\"colab-df-container\">\n",
              "      <div>\n",
              "<style scoped>\n",
              "    .dataframe tbody tr th:only-of-type {\n",
              "        vertical-align: middle;\n",
              "    }\n",
              "\n",
              "    .dataframe tbody tr th {\n",
              "        vertical-align: top;\n",
              "    }\n",
              "\n",
              "    .dataframe thead th {\n",
              "        text-align: right;\n",
              "    }\n",
              "</style>\n",
              "<table border=\"1\" class=\"dataframe\">\n",
              "  <thead>\n",
              "    <tr style=\"text-align: right;\">\n",
              "      <th></th>\n",
              "      <th>Unnamed: 0</th>\n",
              "      <th>ID</th>\n",
              "      <th>CHURN</th>\n",
              "      <th>IS_ACTIVE</th>\n",
              "      <th>CHURN_VALUE</th>\n",
              "      <th>DAILY_HOURS</th>\n",
              "      <th>DAILY_ORDERS</th>\n",
              "      <th>MONTHLY_EARNINGS</th>\n",
              "      <th>MONTHLY_TIPS</th>\n",
              "      <th>HOURLY_MONEY</th>\n",
              "      <th>MONEY_PER_ORDER</th>\n",
              "      <th>DISTANCE_PER_ORDER</th>\n",
              "      <th>DAILY_DISTANCE</th>\n",
              "      <th>MONEY_PER_DISTANCE</th>\n",
              "    </tr>\n",
              "  </thead>\n",
              "  <tbody>\n",
              "    <tr>\n",
              "      <th>0</th>\n",
              "      <td>0</td>\n",
              "      <td>1286316</td>\n",
              "      <td>True</td>\n",
              "      <td>True</td>\n",
              "      <td>3</td>\n",
              "      <td>3.995590</td>\n",
              "      <td>7.640449</td>\n",
              "      <td>1848.040000</td>\n",
              "      <td>326.571429</td>\n",
              "      <td>18.141764</td>\n",
              "      <td>8.062527</td>\n",
              "      <td>3.446071</td>\n",
              "      <td>26.329531</td>\n",
              "      <td>2.339629</td>\n",
              "    </tr>\n",
              "    <tr>\n",
              "      <th>1</th>\n",
              "      <td>3</td>\n",
              "      <td>1036587</td>\n",
              "      <td>True</td>\n",
              "      <td>True</td>\n",
              "      <td>3</td>\n",
              "      <td>7.989556</td>\n",
              "      <td>16.000000</td>\n",
              "      <td>672.120000</td>\n",
              "      <td>127.666667</td>\n",
              "      <td>3.336801</td>\n",
              "      <td>1.400250</td>\n",
              "      <td>3.386037</td>\n",
              "      <td>54.176596</td>\n",
              "      <td>0.413537</td>\n",
              "    </tr>\n",
              "    <tr>\n",
              "      <th>2</th>\n",
              "      <td>4</td>\n",
              "      <td>106854</td>\n",
              "      <td>True</td>\n",
              "      <td>True</td>\n",
              "      <td>3</td>\n",
              "      <td>0.583576</td>\n",
              "      <td>0.750000</td>\n",
              "      <td>46.710000</td>\n",
              "      <td>23.666667</td>\n",
              "      <td>4.019849</td>\n",
              "      <td>2.076000</td>\n",
              "      <td>2.870784</td>\n",
              "      <td>2.153088</td>\n",
              "      <td>0.723147</td>\n",
              "    </tr>\n",
              "    <tr>\n",
              "      <th>3</th>\n",
              "      <td>5</td>\n",
              "      <td>359949</td>\n",
              "      <td>True</td>\n",
              "      <td>True</td>\n",
              "      <td>3</td>\n",
              "      <td>5.628855</td>\n",
              "      <td>3.118577</td>\n",
              "      <td>876.111667</td>\n",
              "      <td>103.583333</td>\n",
              "      <td>5.801624</td>\n",
              "      <td>9.364438</td>\n",
              "      <td>3.455666</td>\n",
              "      <td>10.776761</td>\n",
              "      <td>2.709879</td>\n",
              "    </tr>\n",
              "    <tr>\n",
              "      <th>4</th>\n",
              "      <td>6</td>\n",
              "      <td>64922</td>\n",
              "      <td>True</td>\n",
              "      <td>True</td>\n",
              "      <td>3</td>\n",
              "      <td>1.774453</td>\n",
              "      <td>1.121212</td>\n",
              "      <td>264.054000</td>\n",
              "      <td>82.600000</td>\n",
              "      <td>6.511942</td>\n",
              "      <td>7.850254</td>\n",
              "      <td>3.383588</td>\n",
              "      <td>3.793720</td>\n",
              "      <td>2.320098</td>\n",
              "    </tr>\n",
              "  </tbody>\n",
              "</table>\n",
              "</div>\n",
              "      <button class=\"colab-df-convert\" onclick=\"convertToInteractive('df-76cba235-842f-4154-a18e-47b97c7d961f')\"\n",
              "              title=\"Convert this dataframe to an interactive table.\"\n",
              "              style=\"display:none;\">\n",
              "        \n",
              "  <svg xmlns=\"http://www.w3.org/2000/svg\" height=\"24px\"viewBox=\"0 0 24 24\"\n",
              "       width=\"24px\">\n",
              "    <path d=\"M0 0h24v24H0V0z\" fill=\"none\"/>\n",
              "    <path d=\"M18.56 5.44l.94 2.06.94-2.06 2.06-.94-2.06-.94-.94-2.06-.94 2.06-2.06.94zm-11 1L8.5 8.5l.94-2.06 2.06-.94-2.06-.94L8.5 2.5l-.94 2.06-2.06.94zm10 10l.94 2.06.94-2.06 2.06-.94-2.06-.94-.94-2.06-.94 2.06-2.06.94z\"/><path d=\"M17.41 7.96l-1.37-1.37c-.4-.4-.92-.59-1.43-.59-.52 0-1.04.2-1.43.59L10.3 9.45l-7.72 7.72c-.78.78-.78 2.05 0 2.83L4 21.41c.39.39.9.59 1.41.59.51 0 1.02-.2 1.41-.59l7.78-7.78 2.81-2.81c.8-.78.8-2.07 0-2.86zM5.41 20L4 18.59l7.72-7.72 1.47 1.35L5.41 20z\"/>\n",
              "  </svg>\n",
              "      </button>\n",
              "      \n",
              "  <style>\n",
              "    .colab-df-container {\n",
              "      display:flex;\n",
              "      flex-wrap:wrap;\n",
              "      gap: 12px;\n",
              "    }\n",
              "\n",
              "    .colab-df-convert {\n",
              "      background-color: #E8F0FE;\n",
              "      border: none;\n",
              "      border-radius: 50%;\n",
              "      cursor: pointer;\n",
              "      display: none;\n",
              "      fill: #1967D2;\n",
              "      height: 32px;\n",
              "      padding: 0 0 0 0;\n",
              "      width: 32px;\n",
              "    }\n",
              "\n",
              "    .colab-df-convert:hover {\n",
              "      background-color: #E2EBFA;\n",
              "      box-shadow: 0px 1px 2px rgba(60, 64, 67, 0.3), 0px 1px 3px 1px rgba(60, 64, 67, 0.15);\n",
              "      fill: #174EA6;\n",
              "    }\n",
              "\n",
              "    [theme=dark] .colab-df-convert {\n",
              "      background-color: #3B4455;\n",
              "      fill: #D2E3FC;\n",
              "    }\n",
              "\n",
              "    [theme=dark] .colab-df-convert:hover {\n",
              "      background-color: #434B5C;\n",
              "      box-shadow: 0px 1px 3px 1px rgba(0, 0, 0, 0.15);\n",
              "      filter: drop-shadow(0px 1px 2px rgba(0, 0, 0, 0.3));\n",
              "      fill: #FFFFFF;\n",
              "    }\n",
              "  </style>\n",
              "\n",
              "      <script>\n",
              "        const buttonEl =\n",
              "          document.querySelector('#df-76cba235-842f-4154-a18e-47b97c7d961f button.colab-df-convert');\n",
              "        buttonEl.style.display =\n",
              "          google.colab.kernel.accessAllowed ? 'block' : 'none';\n",
              "\n",
              "        async function convertToInteractive(key) {\n",
              "          const element = document.querySelector('#df-76cba235-842f-4154-a18e-47b97c7d961f');\n",
              "          const dataTable =\n",
              "            await google.colab.kernel.invokeFunction('convertToInteractive',\n",
              "                                                     [key], {});\n",
              "          if (!dataTable) return;\n",
              "\n",
              "          const docLinkHtml = 'Like what you see? Visit the ' +\n",
              "            '<a target=\"_blank\" href=https://colab.research.google.com/notebooks/data_table.ipynb>data table notebook</a>'\n",
              "            + ' to learn more about interactive tables.';\n",
              "          element.innerHTML = '';\n",
              "          dataTable['output_type'] = 'display_data';\n",
              "          await google.colab.output.renderOutput(dataTable, element);\n",
              "          const docLink = document.createElement('div');\n",
              "          docLink.innerHTML = docLinkHtml;\n",
              "          element.appendChild(docLink);\n",
              "        }\n",
              "      </script>\n",
              "    </div>\n",
              "  </div>\n",
              "  "
            ]
          },
          "metadata": {},
          "execution_count": 3
        }
      ],
      "source": [
        "# visualização da tabela de features proveniente de derivação de dados \n",
        "df_derivados = pd.read_csv('/content/drive/Shareddrives/Grupo Rappitendeiros/arthur.csv')\n",
        "df_derivados.head()"
      ]
    },
    {
      "cell_type": "code",
      "execution_count": null,
      "metadata": {
        "id": "bPyZxoHT_dJG"
      },
      "outputs": [],
      "source": [
        "# substituição dos valores booleanos para numéricos na coluna 'CHURN'\n",
        "df_derivados = df_derivados.replace({'CHURN':{True:1, False:0}}) \n",
        "# e na coluna 'AUTO_ACEITE'\n",
        "df = df.replace({'AUTO_ACEITE':{True:1, False:0}}) "
      ]
    },
    {
      "cell_type": "code",
      "execution_count": null,
      "metadata": {
        "id": "8FdRpIySBHoi",
        "colab": {
          "base_uri": "https://localhost:8080/",
          "height": 287
        },
        "outputId": "0f560118-77d6-43b0-f72e-c7d43215497a"
      },
      "outputs": [
        {
          "output_type": "execute_result",
          "data": {
            "text/plain": [
              "   Unnamed: 0       ID  CHURN  IS_ACTIVE  CHURN_VALUE  DAILY_HOURS  \\\n",
              "0           0  1286316      1       True            3     3.995590   \n",
              "1           3  1036587      1       True            3     7.989556   \n",
              "2           4   106854      1       True            3     0.583576   \n",
              "3           5   359949      1       True            3     5.628855   \n",
              "4           6    64922      1       True            3     1.774453   \n",
              "\n",
              "   DAILY_ORDERS  MONTHLY_EARNINGS  MONTHLY_TIPS  HOURLY_MONEY  \\\n",
              "0      7.640449       1848.040000    326.571429     18.141764   \n",
              "1     16.000000        672.120000    127.666667      3.336801   \n",
              "2      0.750000         46.710000     23.666667      4.019849   \n",
              "3      3.118577        876.111667    103.583333      5.801624   \n",
              "4      1.121212        264.054000     82.600000      6.511942   \n",
              "\n",
              "   MONEY_PER_ORDER  DISTANCE_PER_ORDER  DAILY_DISTANCE  MONEY_PER_DISTANCE  \\\n",
              "0         8.062527            3.446071       26.329531            2.339629   \n",
              "1         1.400250            3.386037       54.176596            0.413537   \n",
              "2         2.076000            2.870784        2.153088            0.723147   \n",
              "3         9.364438            3.455666       10.776761            2.709879   \n",
              "4         7.850254            3.383588        3.793720            2.320098   \n",
              "\n",
              "   ORDERS_DONE  ORDERS_CANCEL  CANCELS_OPS_RT  AUTO_ACEITE  STOREKEEPER_YEAR  \n",
              "0       1042.0           40.0             9.0          1.0              22.0  \n",
              "1        179.0            8.0             3.0          0.0              25.0  \n",
              "2        123.0            8.0             1.0          0.0              44.0  \n",
              "3        939.0           98.0            37.0          1.0              25.0  \n",
              "4        117.0            2.0             0.0          1.0              39.0  "
            ],
            "text/html": [
              "\n",
              "  <div id=\"df-ac973c16-5c5f-4c67-8b68-fbba4fb88483\">\n",
              "    <div class=\"colab-df-container\">\n",
              "      <div>\n",
              "<style scoped>\n",
              "    .dataframe tbody tr th:only-of-type {\n",
              "        vertical-align: middle;\n",
              "    }\n",
              "\n",
              "    .dataframe tbody tr th {\n",
              "        vertical-align: top;\n",
              "    }\n",
              "\n",
              "    .dataframe thead th {\n",
              "        text-align: right;\n",
              "    }\n",
              "</style>\n",
              "<table border=\"1\" class=\"dataframe\">\n",
              "  <thead>\n",
              "    <tr style=\"text-align: right;\">\n",
              "      <th></th>\n",
              "      <th>Unnamed: 0</th>\n",
              "      <th>ID</th>\n",
              "      <th>CHURN</th>\n",
              "      <th>IS_ACTIVE</th>\n",
              "      <th>CHURN_VALUE</th>\n",
              "      <th>DAILY_HOURS</th>\n",
              "      <th>DAILY_ORDERS</th>\n",
              "      <th>MONTHLY_EARNINGS</th>\n",
              "      <th>MONTHLY_TIPS</th>\n",
              "      <th>HOURLY_MONEY</th>\n",
              "      <th>MONEY_PER_ORDER</th>\n",
              "      <th>DISTANCE_PER_ORDER</th>\n",
              "      <th>DAILY_DISTANCE</th>\n",
              "      <th>MONEY_PER_DISTANCE</th>\n",
              "      <th>ORDERS_DONE</th>\n",
              "      <th>ORDERS_CANCEL</th>\n",
              "      <th>CANCELS_OPS_RT</th>\n",
              "      <th>AUTO_ACEITE</th>\n",
              "      <th>STOREKEEPER_YEAR</th>\n",
              "    </tr>\n",
              "  </thead>\n",
              "  <tbody>\n",
              "    <tr>\n",
              "      <th>0</th>\n",
              "      <td>0</td>\n",
              "      <td>1286316</td>\n",
              "      <td>1</td>\n",
              "      <td>True</td>\n",
              "      <td>3</td>\n",
              "      <td>3.995590</td>\n",
              "      <td>7.640449</td>\n",
              "      <td>1848.040000</td>\n",
              "      <td>326.571429</td>\n",
              "      <td>18.141764</td>\n",
              "      <td>8.062527</td>\n",
              "      <td>3.446071</td>\n",
              "      <td>26.329531</td>\n",
              "      <td>2.339629</td>\n",
              "      <td>1042.0</td>\n",
              "      <td>40.0</td>\n",
              "      <td>9.0</td>\n",
              "      <td>1.0</td>\n",
              "      <td>22.0</td>\n",
              "    </tr>\n",
              "    <tr>\n",
              "      <th>1</th>\n",
              "      <td>3</td>\n",
              "      <td>1036587</td>\n",
              "      <td>1</td>\n",
              "      <td>True</td>\n",
              "      <td>3</td>\n",
              "      <td>7.989556</td>\n",
              "      <td>16.000000</td>\n",
              "      <td>672.120000</td>\n",
              "      <td>127.666667</td>\n",
              "      <td>3.336801</td>\n",
              "      <td>1.400250</td>\n",
              "      <td>3.386037</td>\n",
              "      <td>54.176596</td>\n",
              "      <td>0.413537</td>\n",
              "      <td>179.0</td>\n",
              "      <td>8.0</td>\n",
              "      <td>3.0</td>\n",
              "      <td>0.0</td>\n",
              "      <td>25.0</td>\n",
              "    </tr>\n",
              "    <tr>\n",
              "      <th>2</th>\n",
              "      <td>4</td>\n",
              "      <td>106854</td>\n",
              "      <td>1</td>\n",
              "      <td>True</td>\n",
              "      <td>3</td>\n",
              "      <td>0.583576</td>\n",
              "      <td>0.750000</td>\n",
              "      <td>46.710000</td>\n",
              "      <td>23.666667</td>\n",
              "      <td>4.019849</td>\n",
              "      <td>2.076000</td>\n",
              "      <td>2.870784</td>\n",
              "      <td>2.153088</td>\n",
              "      <td>0.723147</td>\n",
              "      <td>123.0</td>\n",
              "      <td>8.0</td>\n",
              "      <td>1.0</td>\n",
              "      <td>0.0</td>\n",
              "      <td>44.0</td>\n",
              "    </tr>\n",
              "    <tr>\n",
              "      <th>3</th>\n",
              "      <td>5</td>\n",
              "      <td>359949</td>\n",
              "      <td>1</td>\n",
              "      <td>True</td>\n",
              "      <td>3</td>\n",
              "      <td>5.628855</td>\n",
              "      <td>3.118577</td>\n",
              "      <td>876.111667</td>\n",
              "      <td>103.583333</td>\n",
              "      <td>5.801624</td>\n",
              "      <td>9.364438</td>\n",
              "      <td>3.455666</td>\n",
              "      <td>10.776761</td>\n",
              "      <td>2.709879</td>\n",
              "      <td>939.0</td>\n",
              "      <td>98.0</td>\n",
              "      <td>37.0</td>\n",
              "      <td>1.0</td>\n",
              "      <td>25.0</td>\n",
              "    </tr>\n",
              "    <tr>\n",
              "      <th>4</th>\n",
              "      <td>6</td>\n",
              "      <td>64922</td>\n",
              "      <td>1</td>\n",
              "      <td>True</td>\n",
              "      <td>3</td>\n",
              "      <td>1.774453</td>\n",
              "      <td>1.121212</td>\n",
              "      <td>264.054000</td>\n",
              "      <td>82.600000</td>\n",
              "      <td>6.511942</td>\n",
              "      <td>7.850254</td>\n",
              "      <td>3.383588</td>\n",
              "      <td>3.793720</td>\n",
              "      <td>2.320098</td>\n",
              "      <td>117.0</td>\n",
              "      <td>2.0</td>\n",
              "      <td>0.0</td>\n",
              "      <td>1.0</td>\n",
              "      <td>39.0</td>\n",
              "    </tr>\n",
              "  </tbody>\n",
              "</table>\n",
              "</div>\n",
              "      <button class=\"colab-df-convert\" onclick=\"convertToInteractive('df-ac973c16-5c5f-4c67-8b68-fbba4fb88483')\"\n",
              "              title=\"Convert this dataframe to an interactive table.\"\n",
              "              style=\"display:none;\">\n",
              "        \n",
              "  <svg xmlns=\"http://www.w3.org/2000/svg\" height=\"24px\"viewBox=\"0 0 24 24\"\n",
              "       width=\"24px\">\n",
              "    <path d=\"M0 0h24v24H0V0z\" fill=\"none\"/>\n",
              "    <path d=\"M18.56 5.44l.94 2.06.94-2.06 2.06-.94-2.06-.94-.94-2.06-.94 2.06-2.06.94zm-11 1L8.5 8.5l.94-2.06 2.06-.94-2.06-.94L8.5 2.5l-.94 2.06-2.06.94zm10 10l.94 2.06.94-2.06 2.06-.94-2.06-.94-.94-2.06-.94 2.06-2.06.94z\"/><path d=\"M17.41 7.96l-1.37-1.37c-.4-.4-.92-.59-1.43-.59-.52 0-1.04.2-1.43.59L10.3 9.45l-7.72 7.72c-.78.78-.78 2.05 0 2.83L4 21.41c.39.39.9.59 1.41.59.51 0 1.02-.2 1.41-.59l7.78-7.78 2.81-2.81c.8-.78.8-2.07 0-2.86zM5.41 20L4 18.59l7.72-7.72 1.47 1.35L5.41 20z\"/>\n",
              "  </svg>\n",
              "      </button>\n",
              "      \n",
              "  <style>\n",
              "    .colab-df-container {\n",
              "      display:flex;\n",
              "      flex-wrap:wrap;\n",
              "      gap: 12px;\n",
              "    }\n",
              "\n",
              "    .colab-df-convert {\n",
              "      background-color: #E8F0FE;\n",
              "      border: none;\n",
              "      border-radius: 50%;\n",
              "      cursor: pointer;\n",
              "      display: none;\n",
              "      fill: #1967D2;\n",
              "      height: 32px;\n",
              "      padding: 0 0 0 0;\n",
              "      width: 32px;\n",
              "    }\n",
              "\n",
              "    .colab-df-convert:hover {\n",
              "      background-color: #E2EBFA;\n",
              "      box-shadow: 0px 1px 2px rgba(60, 64, 67, 0.3), 0px 1px 3px 1px rgba(60, 64, 67, 0.15);\n",
              "      fill: #174EA6;\n",
              "    }\n",
              "\n",
              "    [theme=dark] .colab-df-convert {\n",
              "      background-color: #3B4455;\n",
              "      fill: #D2E3FC;\n",
              "    }\n",
              "\n",
              "    [theme=dark] .colab-df-convert:hover {\n",
              "      background-color: #434B5C;\n",
              "      box-shadow: 0px 1px 3px 1px rgba(0, 0, 0, 0.15);\n",
              "      filter: drop-shadow(0px 1px 2px rgba(0, 0, 0, 0.3));\n",
              "      fill: #FFFFFF;\n",
              "    }\n",
              "  </style>\n",
              "\n",
              "      <script>\n",
              "        const buttonEl =\n",
              "          document.querySelector('#df-ac973c16-5c5f-4c67-8b68-fbba4fb88483 button.colab-df-convert');\n",
              "        buttonEl.style.display =\n",
              "          google.colab.kernel.accessAllowed ? 'block' : 'none';\n",
              "\n",
              "        async function convertToInteractive(key) {\n",
              "          const element = document.querySelector('#df-ac973c16-5c5f-4c67-8b68-fbba4fb88483');\n",
              "          const dataTable =\n",
              "            await google.colab.kernel.invokeFunction('convertToInteractive',\n",
              "                                                     [key], {});\n",
              "          if (!dataTable) return;\n",
              "\n",
              "          const docLinkHtml = 'Like what you see? Visit the ' +\n",
              "            '<a target=\"_blank\" href=https://colab.research.google.com/notebooks/data_table.ipynb>data table notebook</a>'\n",
              "            + ' to learn more about interactive tables.';\n",
              "          element.innerHTML = '';\n",
              "          dataTable['output_type'] = 'display_data';\n",
              "          await google.colab.output.renderOutput(dataTable, element);\n",
              "          const docLink = document.createElement('div');\n",
              "          docLink.innerHTML = docLinkHtml;\n",
              "          element.appendChild(docLink);\n",
              "        }\n",
              "      </script>\n",
              "    </div>\n",
              "  </div>\n",
              "  "
            ]
          },
          "metadata": {},
          "execution_count": 5
        }
      ],
      "source": [
        "# junção das tabelas para features utilizando o ID como join key\n",
        "df_features = pd.merge(df_derivados, df, how='inner', left_on='ID', right_on='ID')\n",
        "df_features.head()"
      ]
    },
    {
      "cell_type": "code",
      "execution_count": null,
      "metadata": {
        "id": "b-UiNioBEqcA",
        "colab": {
          "base_uri": "https://localhost:8080/"
        },
        "outputId": "2f7b5ea4-32c3-4708-f30e-9635ed3ca78c"
      },
      "outputs": [
        {
          "output_type": "execute_result",
          "data": {
            "text/plain": [
              "160621"
            ]
          },
          "metadata": {},
          "execution_count": 6
        }
      ],
      "source": [
        "# quantidade de RTs na tabela \n",
        "len(df_features)"
      ]
    },
    {
      "cell_type": "code",
      "execution_count": null,
      "metadata": {
        "id": "SdA1EP69Tfl-"
      },
      "outputs": [],
      "source": [
        "# remoção dos nulos\n",
        "df_features = df_features.dropna()"
      ]
    },
    {
      "cell_type": "code",
      "execution_count": null,
      "metadata": {
        "id": "fIOPrJBpVnDS",
        "colab": {
          "base_uri": "https://localhost:8080/"
        },
        "outputId": "16dc6dd8-3cfd-49de-e35b-69db3ff3a2dd"
      },
      "outputs": [
        {
          "output_type": "execute_result",
          "data": {
            "text/plain": [
              "Unnamed: 0               0\n",
              "ID                       0\n",
              "CHURN                    0\n",
              "IS_ACTIVE                0\n",
              "CHURN_VALUE              0\n",
              "DAILY_HOURS              0\n",
              "DAILY_ORDERS             0\n",
              "MONTHLY_EARNINGS         0\n",
              "MONTHLY_TIPS             0\n",
              "HOURLY_MONEY             1\n",
              "MONEY_PER_ORDER       7264\n",
              "DISTANCE_PER_ORDER       0\n",
              "DAILY_DISTANCE           0\n",
              "MONEY_PER_DISTANCE    7280\n",
              "ORDERS_DONE              0\n",
              "ORDERS_CANCEL            0\n",
              "CANCELS_OPS_RT           0\n",
              "AUTO_ACEITE              0\n",
              "STOREKEEPER_YEAR         0\n",
              "dtype: int64"
            ]
          },
          "metadata": {},
          "execution_count": 8
        }
      ],
      "source": [
        "# verificação de números infinitos por coluna \n",
        "df_features.isin([np.inf, -np.inf]).sum()"
      ]
    },
    {
      "cell_type": "code",
      "execution_count": null,
      "metadata": {
        "id": "B2qPZfTmkL53"
      },
      "outputs": [],
      "source": [
        "# substituição dos valores np.inf para NaN\n",
        "df_features = df_features.replace({'MONEY_PER_ORDER':{np.inf:np.nan}, 'MONEY_PER_DISTANCE':{np.inf:np.nan}, 'HOURLY_MONEY':{np.inf:np.nan}})\n",
        "# drop nos valores NaN \n",
        "df_features = df_features.dropna()\n"
      ]
    },
    {
      "cell_type": "code",
      "execution_count": null,
      "metadata": {
        "id": "wZC5bgfzXo1k",
        "colab": {
          "base_uri": "https://localhost:8080/"
        },
        "outputId": "5692bbe9-abb9-4b1f-9a98-761536e563a9"
      },
      "outputs": [
        {
          "output_type": "execute_result",
          "data": {
            "text/plain": [
              "Unnamed: 0            0\n",
              "ID                    0\n",
              "CHURN                 0\n",
              "IS_ACTIVE             0\n",
              "CHURN_VALUE           0\n",
              "DAILY_HOURS           0\n",
              "DAILY_ORDERS          0\n",
              "MONTHLY_EARNINGS      0\n",
              "MONTHLY_TIPS          0\n",
              "HOURLY_MONEY          0\n",
              "MONEY_PER_ORDER       0\n",
              "DISTANCE_PER_ORDER    0\n",
              "DAILY_DISTANCE        0\n",
              "MONEY_PER_DISTANCE    0\n",
              "ORDERS_DONE           0\n",
              "ORDERS_CANCEL         0\n",
              "CANCELS_OPS_RT        0\n",
              "AUTO_ACEITE           0\n",
              "STOREKEEPER_YEAR      0\n",
              "dtype: int64"
            ]
          },
          "metadata": {},
          "execution_count": 10
        }
      ],
      "source": [
        "# verificação\n",
        "df_features.isin([np.inf, -np.inf]).sum()"
      ]
    },
    {
      "cell_type": "code",
      "execution_count": null,
      "metadata": {
        "id": "WadQZDZ7X1D0",
        "colab": {
          "base_uri": "https://localhost:8080/"
        },
        "outputId": "fa5b4909-2ded-41ba-98a6-f10ee0903136"
      },
      "outputs": [
        {
          "output_type": "execute_result",
          "data": {
            "text/plain": [
              "Unnamed: 0            0\n",
              "ID                    0\n",
              "CHURN                 0\n",
              "IS_ACTIVE             0\n",
              "CHURN_VALUE           0\n",
              "DAILY_HOURS           0\n",
              "DAILY_ORDERS          0\n",
              "MONTHLY_EARNINGS      0\n",
              "MONTHLY_TIPS          0\n",
              "HOURLY_MONEY          0\n",
              "MONEY_PER_ORDER       0\n",
              "DISTANCE_PER_ORDER    0\n",
              "DAILY_DISTANCE        0\n",
              "MONEY_PER_DISTANCE    0\n",
              "ORDERS_DONE           0\n",
              "ORDERS_CANCEL         0\n",
              "CANCELS_OPS_RT        0\n",
              "AUTO_ACEITE           0\n",
              "STOREKEEPER_YEAR      0\n",
              "dtype: int64"
            ]
          },
          "metadata": {},
          "execution_count": 11
        }
      ],
      "source": [
        "# verificação de valores nulos em cada coluna\n",
        "df_features.isna().sum()"
      ]
    },
    {
      "cell_type": "code",
      "execution_count": null,
      "metadata": {
        "id": "7C0aND1gmGNU",
        "colab": {
          "base_uri": "https://localhost:8080/"
        },
        "outputId": "bd0ad291-fb15-441f-a157-61909290372e"
      },
      "outputs": [
        {
          "output_type": "execute_result",
          "data": {
            "text/plain": [
              "Unnamed: 0            0\n",
              "ID                    0\n",
              "CHURN                 0\n",
              "IS_ACTIVE             0\n",
              "CHURN_VALUE           0\n",
              "DAILY_HOURS           0\n",
              "DAILY_ORDERS          0\n",
              "MONTHLY_EARNINGS      0\n",
              "MONTHLY_TIPS          0\n",
              "HOURLY_MONEY          0\n",
              "MONEY_PER_ORDER       0\n",
              "DISTANCE_PER_ORDER    0\n",
              "DAILY_DISTANCE        0\n",
              "MONEY_PER_DISTANCE    0\n",
              "ORDERS_DONE           0\n",
              "ORDERS_CANCEL         0\n",
              "CANCELS_OPS_RT        0\n",
              "AUTO_ACEITE           0\n",
              "STOREKEEPER_YEAR      7\n",
              "dtype: int64"
            ]
          },
          "metadata": {},
          "execution_count": 12
        }
      ],
      "source": [
        "# verifica se existem números menores que 0 nas colunas \n",
        "df_features.lt(0).sum()"
      ]
    },
    {
      "cell_type": "markdown",
      "metadata": {
        "id": "Y76mTNaFkkDi"
      },
      "source": [
        "# Separação de dados para teste e treino 👩‍💻"
      ]
    },
    {
      "cell_type": "code",
      "execution_count": null,
      "metadata": {
        "id": "PYbbNdxv6lsW",
        "colab": {
          "base_uri": "https://localhost:8080/"
        },
        "outputId": "8dacd5b4-83a0-4f46-db32-cb969cf143d0"
      },
      "outputs": [
        {
          "output_type": "stream",
          "name": "stdout",
          "text": [
            "1    78024\n",
            "0    21115\n",
            "Name: CHURN, dtype: int64\n"
          ]
        }
      ],
      "source": [
        "# definição de x e y para treinamento e testagem dos modelos\n",
        "x = df_features[['MONTHLY_EARNINGS', 'DISTANCE_PER_ORDER', 'ORDERS_DONE', 'ORDERS_CANCEL', 'CANCELS_OPS_RT', 'AUTO_ACEITE']]\n",
        "y = df_features['CHURN']\n",
        "\n",
        "# separação dos dados entre teste e treino\n",
        "from sklearn.model_selection import train_test_split\n",
        "x_train, x_test, y_train, y_test = train_test_split(x,y, test_size=0.3, random_state=3) #split = separação entre teste e treino\n",
        "\n",
        "# checagem se precisamos realizar rebalanceamento dos dados\n",
        "\n",
        "print(y_train.value_counts())"
      ]
    },
    {
      "cell_type": "code",
      "execution_count": null,
      "metadata": {
        "id": "xoCILZy0EDl7",
        "colab": {
          "base_uri": "https://localhost:8080/"
        },
        "outputId": "bec9fd74-97b6-40dc-d748-a940dc5c0ac1"
      },
      "outputs": [
        {
          "output_type": "stream",
          "name": "stdout",
          "text": [
            "0    21115\n",
            "1    21115\n",
            "Name: CHURN, dtype: int64\n"
          ]
        }
      ],
      "source": [
        "# rebalanceamento undersampling dos dados x y de treino\n",
        "\n",
        "from imblearn.under_sampling import RandomUnderSampler\n",
        "rus = RandomUnderSampler(random_state=0)\n",
        "x_resampled, y_resampled = rus.fit_resample(x_train, y_train)\n",
        "\n",
        "print(y_resampled.value_counts())"
      ]
    },
    {
      "cell_type": "code",
      "execution_count": null,
      "metadata": {
        "id": "KWo3rmJnj92K"
      },
      "outputs": [],
      "source": [
        "def metricas(modelo):\n",
        "  from sklearn.metrics import recall_score, precision_score, f1_score\n",
        "  print('Acuracidade (treino): ', modelo.score(x_train, y_train))\n",
        "  print('Acuracidade (teste): ', modelo.score(x_test, y_test))\n",
        "  print('Revocação: ', recall_score(y_test, y_pred))\n",
        "  print('Precisão: ', precision_score(y_test, y_pred))\n",
        "  print('F1_score: ', f1_score(y_test, y_pred))\n"
      ]
    },
    {
      "cell_type": "markdown",
      "metadata": {
        "id": "Vs3nxnz4y6xG"
      },
      "source": [
        "# Modelos 🤖"
      ]
    },
    {
      "cell_type": "code",
      "execution_count": null,
      "metadata": {
        "id": "fUQanqucy6xG"
      },
      "outputs": [],
      "source": [
        "# importação das bibliotecas necessárias\n",
        "\n",
        "# modelo de classificação K-Nearest Neighbours\n",
        "from sklearn.neighbors import KNeighborsClassifier\n",
        "# modelo de classificação Decision Tree\n",
        "from sklearn.tree import DecisionTreeClassifier\n",
        "# modelo de classificação Multinomial Naive Bayes\n",
        "from sklearn.naive_bayes import MultinomialNB\n",
        "# modelo de classificação Random Forest\n",
        "from sklearn.ensemble import RandomForestClassifier\n",
        "# modelo de classificação de Regressão Logística\n",
        "from sklearn.linear_model import LogisticRegression\n",
        "# modelo de classificação Support Vector Machine\n",
        "from sklearn.svm import SVC\n",
        "# modelo de classificação Ada Boost\n",
        "from sklearn.ensemble import AdaBoostClassifier\n",
        "# modelo de classificação Extra Trees\n",
        "from sklearn.ensemble import ExtraTreesClassifier\n",
        "\n",
        "# bibliotecas para matriz de confusão \n",
        "from sklearn.metrics import confusion_matrix\n",
        "import matplotlib.pyplot as plt\n",
        "from sklearn.metrics import ConfusionMatrixDisplay"
      ]
    },
    {
      "cell_type": "markdown",
      "metadata": {
        "id": "_POtjIbry6xH"
      },
      "source": [
        "## K Nearest Neighbour - KNN\n",
        "\n"
      ]
    },
    {
      "cell_type": "code",
      "execution_count": null,
      "metadata": {
        "id": "CiymzrMNy6xH",
        "colab": {
          "base_uri": "https://localhost:8080/"
        },
        "outputId": "64f46239-5db5-4318-9e7f-508a5ff11fc4"
      },
      "outputs": [
        {
          "output_type": "stream",
          "name": "stdout",
          "text": [
            "Acuracidade (treino):  0.7083993181290915\n",
            "Acuracidade (teste):  0.6345642401562758\n",
            "Revocação:  0.6339616995810892\n",
            "Precisão:  0.8654466729300274\n",
            "F1_score:  0.7318353741731577\n"
          ]
        }
      ],
      "source": [
        "## instanciação do objeto e treinamento do modelo KNN\n",
        "knn = KNeighborsClassifier(n_neighbors=3).fit(x_resampled, y_resampled.squeeze())\n",
        "# predição do modelo \n",
        "y_pred = knn.predict(x_test)\n",
        "metricas(knn)"
      ]
    },
    {
      "cell_type": "code",
      "execution_count": null,
      "metadata": {
        "id": "VyMrj2qKy6xH",
        "colab": {
          "base_uri": "https://localhost:8080/",
          "height": 279
        },
        "outputId": "d6facf21-f950-48d2-cf7c-ed284b4f3c31"
      },
      "outputs": [
        {
          "output_type": "display_data",
          "data": {
            "text/plain": [
              "<Figure size 432x288 with 2 Axes>"
            ],
            "image/png": "[encoded data removed]"
          },
          "metadata": {
            "needs_background": "light"
          }
        }
      ],
      "source": [
        "# definição das variáveis utilizadas na matriz de confusão \n",
        "y_true = y_test\n",
        "cm = confusion_matrix(y_true, y_pred,normalize='all')\n",
        "# matriz\n",
        "disp = ConfusionMatrixDisplay(confusion_matrix=cm, display_labels=knn.classes_)\n",
        "disp.plot()\n",
        "plt.show()"
      ]
    },
    {
      "cell_type": "markdown",
      "metadata": {
        "id": "nfA6J8OOy6xH"
      },
      "source": [
        "## Decision tree"
      ]
    },
    {
      "cell_type": "code",
      "execution_count": null,
      "metadata": {
        "id": "oOCQ5Kbuy6xH",
        "colab": {
          "base_uri": "https://localhost:8080/"
        },
        "outputId": "0bcbbd8a-5353-4e35-a20c-7c854cfa8d0d"
      },
      "outputs": [
        {
          "output_type": "stream",
          "name": "stdout",
          "text": [
            "Acuracidade (treino):  0.6701197308829018\n",
            "Acuracidade (teste):  0.6665725246534397\n",
            "Revocação:  0.6545780969479353\n",
            "Precisão:  0.8929344054859382\n",
            "F1_score:  0.7553997824548075\n"
          ]
        }
      ],
      "source": [
        "## instanciação do objeto e treinamento do modelo Decision Tree\n",
        "dt = DecisionTreeClassifier(max_depth=3).fit(x_resampled, y_resampled.squeeze())\n",
        "# predição do modelo\n",
        "y_pred = dt.predict(x_test)\n",
        "metricas(dt)"
      ]
    },
    {
      "cell_type": "code",
      "execution_count": null,
      "metadata": {
        "id": "MIk2tikUpmzt",
        "colab": {
          "base_uri": "https://localhost:8080/"
        },
        "outputId": "8a3b724d-f2c5-4fc4-9705-725d680d13d8"
      },
      "outputs": [
        {
          "output_type": "stream",
          "name": "stdout",
          "text": [
            "Acuracidade (treino):  0.7936634422376663\n",
            "Acuracidade (teste):  0.793311209960225\n",
            "Revocação:  0.9173548773189707\n",
            "Precisão:  0.835868913244997\n",
            "F1_score:  0.8747182515906302\n"
          ]
        }
      ],
      "source": [
        "## instanciação do objeto e treinamento do modelo Decision Tree\n",
        "dt = DecisionTreeClassifier(max_depth=3).fit(x_train, y_train.squeeze())\n",
        "# predição do modelo\n",
        "y_pred = dt.predict(x_test)\n",
        "metricas(dt)"
      ]
    },
    {
      "cell_type": "code",
      "execution_count": null,
      "metadata": {
        "id": "VWVkH9M1y6xH",
        "colab": {
          "base_uri": "https://localhost:8080/",
          "height": 279
        },
        "outputId": "2e191785-7ef0-486c-952b-54af58587e15"
      },
      "outputs": [
        {
          "output_type": "display_data",
          "data": {
            "text/plain": [
              "<Figure size 432x288 with 2 Axes>"
            ],
            "image/png": "[encoded data removed]"
          },
          "metadata": {
            "needs_background": "light"
          }
        }
      ],
      "source": [
        "# definição das variáveis utilizadas na matriz de confusão \n",
        "y_true = y_test\n",
        "cm = confusion_matrix(y_true, y_pred, normalize='all')\n",
        "# matriz\n",
        "disp = ConfusionMatrixDisplay(confusion_matrix=cm, display_labels=knn.classes_)\n",
        "disp.plot()\n",
        "plt.show()"
      ]
    },
    {
      "cell_type": "markdown",
      "metadata": {
        "id": "VvYDP6S-y6xJ"
      },
      "source": [
        "## Naive Bayes"
      ]
    },
    {
      "cell_type": "code",
      "execution_count": null,
      "metadata": {
        "id": "Vk3zmNxTy6xJ",
        "colab": {
          "base_uri": "https://localhost:8080/"
        },
        "outputId": "f05b9df7-37d9-4a3d-b973-5f3d51e9a468"
      },
      "outputs": [
        {
          "output_type": "stream",
          "name": "stdout",
          "text": [
            "Acuracidade (treino):  0.7532252695710063\n",
            "Acuracidade (teste):  0.7526653957494881\n",
            "Revocação:  0.8586175942549371\n",
            "Precisão:  0.8322457147829113\n",
            "F1_score:  0.8452259974373701\n"
          ]
        }
      ],
      "source": [
        "## instanciação do objeto e treinamento do modelo Multinomial Naive Bayes\n",
        "nb = MultinomialNB().fit(x_resampled, y_resampled.squeeze())\n",
        "# predição do modelo\n",
        "y_pred = nb.predict(x_test)\n",
        "metricas(nb)"
      ]
    },
    {
      "cell_type": "code",
      "execution_count": null,
      "metadata": {
        "id": "OBKoQH3Lp1b9",
        "colab": {
          "base_uri": "https://localhost:8080/"
        },
        "outputId": "6ea5c4ae-17f2-4c28-d050-fdfada5d5e42"
      },
      "outputs": [
        {
          "output_type": "stream",
          "name": "stdout",
          "text": [
            "Acuracidade (treino):  0.7580064354088704\n",
            "Acuracidade (teste):  0.7587140200993199\n",
            "Revocação:  0.8715140634350689\n",
            "Precisão:  0.8301789989738912\n",
            "F1_score:  0.8503445054303399\n"
          ]
        }
      ],
      "source": [
        "## instanciação do objeto e treinamento do modelo Multinomial Naive Bayes\n",
        "nb = MultinomialNB().fit(x_train, y_train.squeeze())\n",
        "# predição do modelo\n",
        "y_pred = nb.predict(x_test)\n",
        "metricas(nb)"
      ]
    },
    {
      "cell_type": "code",
      "execution_count": null,
      "metadata": {
        "id": "qpEJEPMpy6xJ",
        "colab": {
          "base_uri": "https://localhost:8080/",
          "height": 279
        },
        "outputId": "6cf8736c-ea2a-40df-ec06-42192eea5507"
      },
      "outputs": [
        {
          "output_type": "display_data",
          "data": {
            "text/plain": [
              "<Figure size 432x288 with 2 Axes>"
            ],
            "image/png": "[encoded data removed]"
          },
          "metadata": {
            "needs_background": "light"
          }
        }
      ],
      "source": [
        "# definição das variáveis utilizadas na matriz de confusão \n",
        "y_true = y_test\n",
        "cm = confusion_matrix(y_true, y_pred, normalize='all')\n",
        "# matriz\n",
        "disp = ConfusionMatrixDisplay(confusion_matrix=cm, display_labels=knn.classes_)\n",
        "disp.plot()\n",
        "plt.show()"
      ]
    },
    {
      "cell_type": "markdown",
      "metadata": {
        "id": "VB4NN06cy6xJ"
      },
      "source": [
        "## Random forest"
      ]
    },
    {
      "cell_type": "code",
      "execution_count": null,
      "metadata": {
        "id": "Kj4i0rXHy6xJ",
        "colab": {
          "base_uri": "https://localhost:8080/"
        },
        "outputId": "3b2802b2-9e14-4e6f-a4a6-e9f969ce5c68"
      },
      "outputs": [
        {
          "output_type": "stream",
          "name": "stdout",
          "text": [
            "Acuracidade (treino):  0.787016209564349\n",
            "Acuracidade (teste):  0.7865565205111912\n",
            "Revocação:  1.0\n",
            "Precisão:  0.7865565205111912\n",
            "F1_score:  0.8805280006323362\n"
          ]
        }
      ],
      "source": [
        "## instanciação do objeto e treinamento do modelo Random Forest Sem Balanceamento\n",
        "rf = RandomForestClassifier(max_depth=2, random_state=23).fit(x_train, y_train.squeeze())\n",
        "# predição do modelo\n",
        "y_pred = rf.predict(x_test)\n",
        "metricas(rf)"
      ]
    },
    {
      "cell_type": "code",
      "execution_count": null,
      "metadata": {
        "colab": {
          "base_uri": "https://localhost:8080/"
        },
        "id": "vJZVWbHMqApS",
        "outputId": "43c5fc1c-d221-4c80-aaf4-f16bea12a81d"
      },
      "outputs": [
        {
          "output_type": "stream",
          "name": "stdout",
          "text": [
            "Acuracidade (treino):  0.6642390986392842\n",
            "Acuracidade (teste):  0.6637247287533244\n",
            "Revocação:  0.6547277079593058\n",
            "Precisão:  0.8883881445391799\n",
            "F1_score:  0.7538673557278207\n"
          ]
        }
      ],
      "source": [
        "## instanciação do objeto e treinamento do modelo Random Forest\n",
        "rf = RandomForestClassifier(max_depth=2, random_state=23).fit(x_resampled, y_resampled.squeeze())\n",
        "# predição do modelo\n",
        "y_pred = rf.predict(x_test)\n",
        "metricas(rf)"
      ]
    },
    {
      "cell_type": "code",
      "execution_count": null,
      "metadata": {
        "colab": {
          "base_uri": "https://localhost:8080/",
          "height": 279
        },
        "id": "uUQ3Kin5y6xK",
        "outputId": "a610df97-8281-4737-baa3-97331cfd085e"
      },
      "outputs": [
        {
          "output_type": "display_data",
          "data": {
            "text/plain": [
              "<Figure size 432x288 with 2 Axes>"
            ],
            "image/png": "[encoded data removed]"
          },
          "metadata": {
            "needs_background": "light"
          }
        }
      ],
      "source": [
        "# definição das variáveis utilizadas na matriz de confusão Sem balanceamento\n",
        "y_true = y_test\n",
        "cm = confusion_matrix(y_true, y_pred, normalize='all')\n",
        "# matriz\n",
        "disp = ConfusionMatrixDisplay(confusion_matrix=cm, display_labels=rf.classes_)\n",
        "disp.plot()\n",
        "plt.show()"
      ]
    },
    {
      "cell_type": "markdown",
      "metadata": {
        "id": "Heq5EzwNy6xK"
      },
      "source": [
        "## Regressão logística"
      ]
    },
    {
      "cell_type": "code",
      "execution_count": null,
      "metadata": {
        "colab": {
          "base_uri": "https://localhost:8080/"
        },
        "id": "4Su498_4y6xK",
        "outputId": "7df5295e-2310-46c3-f2f9-143b6df674a8"
      },
      "outputs": [
        {
          "output_type": "stream",
          "name": "stdout",
          "text": [
            "Acuracidade (treino):  0.737257789568182\n",
            "Acuracidade (teste):  0.7347313422297536\n",
            "Revocação:  0.7930281268701377\n",
            "Precisão:  0.8588974948958097\n",
            "F1_score:  0.8246495636075112\n"
          ]
        },
        {
          "output_type": "stream",
          "name": "stderr",
          "text": [
            "/usr/local/lib/python3.7/dist-packages/sklearn/linear_model/_logistic.py:818: ConvergenceWarning: lbfgs failed to converge (status=1):\n",
            "STOP: TOTAL NO. of ITERATIONS REACHED LIMIT.\n",
            "\n",
            "Increase the number of iterations (max_iter) or scale the data as shown in:\n",
            "    https://scikit-learn.org/stable/modules/preprocessing.html\n",
            "Please also refer to the documentation for alternative solver options:\n",
            "    https://scikit-learn.org/stable/modules/linear_model.html#logistic-regression\n",
            "  extra_warning_msg=_LOGISTIC_SOLVER_CONVERGENCE_MSG,\n"
          ]
        }
      ],
      "source": [
        "## instanciação do objeto e treinamento do modelo de Regressão Logística \n",
        "rl = LogisticRegression().fit(x_resampled, y_resampled.squeeze())\n",
        "# predição do modelo\n",
        "y_pred = rl.predict(x_test)\n",
        "metricas(rl)"
      ]
    },
    {
      "cell_type": "code",
      "execution_count": null,
      "metadata": {
        "colab": {
          "base_uri": "https://localhost:8080/"
        },
        "id": "py2Xr5ZfqqHR",
        "outputId": "49debb82-2eff-416d-c628-272a226f6989"
      },
      "outputs": [
        {
          "output_type": "stream",
          "name": "stdout",
          "text": [
            "Acuracidade (treino):  0.7962154147207456\n",
            "Acuracidade (teste):  0.7956882957942055\n",
            "Revocação:  0.9733393177737881\n",
            "Precisão:  0.8067908430268608\n",
            "F1_score:  0.8822739662864969\n"
          ]
        },
        {
          "output_type": "stream",
          "name": "stderr",
          "text": [
            "/usr/local/lib/python3.7/dist-packages/sklearn/linear_model/_logistic.py:818: ConvergenceWarning: lbfgs failed to converge (status=1):\n",
            "STOP: TOTAL NO. of ITERATIONS REACHED LIMIT.\n",
            "\n",
            "Increase the number of iterations (max_iter) or scale the data as shown in:\n",
            "    https://scikit-learn.org/stable/modules/preprocessing.html\n",
            "Please also refer to the documentation for alternative solver options:\n",
            "    https://scikit-learn.org/stable/modules/linear_model.html#logistic-regression\n",
            "  extra_warning_msg=_LOGISTIC_SOLVER_CONVERGENCE_MSG,\n"
          ]
        }
      ],
      "source": [
        "## instanciação do objeto e treinamento do modelo de Regressão Logística Sem balanceamento \n",
        "rl = LogisticRegression().fit(x_train, y_train.squeeze())\n",
        "# predição do modelo\n",
        "y_pred = rl.predict(x_test)\n",
        "metricas(rl)"
      ]
    },
    {
      "cell_type": "code",
      "execution_count": null,
      "metadata": {
        "colab": {
          "base_uri": "https://localhost:8080/",
          "height": 279
        },
        "id": "NVh_3Sejy6xK",
        "outputId": "92a2c025-4fce-4c52-e31a-5422d3b7c2f3"
      },
      "outputs": [
        {
          "output_type": "display_data",
          "data": {
            "text/plain": [
              "<Figure size 432x288 with 2 Axes>"
            ],
            "image/png": "[encoded data removed]"
          },
          "metadata": {
            "needs_background": "light"
          }
        }
      ],
      "source": [
        "# definição das variáveis utilizadas na matriz de confusão \n",
        "y_true = y_test\n",
        "cm = confusion_matrix(y_true, y_pred, normalize='all')\n",
        "# matriz\n",
        "disp = ConfusionMatrixDisplay(confusion_matrix=cm, display_labels=knn.classes_)\n",
        "disp.plot()\n",
        "plt.show()"
      ]
    },
    {
      "cell_type": "markdown",
      "metadata": {
        "id": "FDwKp-Kjy6xK"
      },
      "source": [
        "## Support Vector Machines - SVM"
      ]
    },
    {
      "cell_type": "code",
      "execution_count": null,
      "metadata": {
        "id": "0L-SX0puy6xK",
        "colab": {
          "base_uri": "https://localhost:8080/"
        },
        "outputId": "a909afb6-1504-4f7b-b0d7-61663e4c728c"
      },
      "outputs": [
        {
          "output_type": "stream",
          "name": "stdout",
          "text": [
            "Acuracidade (treino):  0.7100434743138422\n",
            "Acuracidade (teste):  0.7095718891948505\n",
            "Revocação:  0.735966487133453\n",
            "Precisão:  0.8749288560045532\n",
            "F1_score:  0.7994539426639797\n"
          ]
        }
      ],
      "source": [
        "## instanciação do objeto e treinamento do modelo SVM\n",
        "svm = SVC().fit(x_resampled, y_resampled)\n",
        "# predição do modelo\n",
        "y_pred = svm.predict(x_test)\n",
        "metricas(svm)"
      ]
    },
    {
      "cell_type": "code",
      "execution_count": null,
      "metadata": {
        "colab": {
          "base_uri": "https://localhost:8080/",
          "height": 235
        },
        "id": "JSlSOP6cCeBj",
        "outputId": "db1e71fd-a20f-4214-f2d0-95bece4b8b3c"
      },
      "outputs": [
        {
          "output_type": "error",
          "ename": "NameError",
          "evalue": "ignored",
          "traceback": [
            "\u001b[0;31m---------------------------------------------------------------------------\u001b[0m",
            "\u001b[0;31mNameError\u001b[0m                                 Traceback (most recent call last)",
            "\u001b[0;32m<ipython-input-32-1d275ee061f7>\u001b[0m in \u001b[0;36m<module>\u001b[0;34m\u001b[0m\n\u001b[1;32m      3\u001b[0m \u001b[0mcm\u001b[0m \u001b[0;34m=\u001b[0m \u001b[0mconfusion_matrix\u001b[0m\u001b[0;34m(\u001b[0m\u001b[0my_true\u001b[0m\u001b[0;34m,\u001b[0m \u001b[0my_pred\u001b[0m\u001b[0;34m,\u001b[0m \u001b[0mnormalize\u001b[0m\u001b[0;34m=\u001b[0m\u001b[0;34m'all'\u001b[0m\u001b[0;34m)\u001b[0m\u001b[0;34m\u001b[0m\u001b[0;34m\u001b[0m\u001b[0m\n\u001b[1;32m      4\u001b[0m \u001b[0;31m# matriz\u001b[0m\u001b[0;34m\u001b[0m\u001b[0;34m\u001b[0m\u001b[0;34m\u001b[0m\u001b[0m\n\u001b[0;32m----> 5\u001b[0;31m \u001b[0mdisp\u001b[0m \u001b[0;34m=\u001b[0m \u001b[0mConfusionMatrixDisplay\u001b[0m\u001b[0;34m(\u001b[0m\u001b[0mconfusion_matrix\u001b[0m\u001b[0;34m=\u001b[0m\u001b[0mcm\u001b[0m\u001b[0;34m,\u001b[0m \u001b[0mdisplay_labels\u001b[0m\u001b[0;34m=\u001b[0m\u001b[0mab\u001b[0m\u001b[0;34m.\u001b[0m\u001b[0mclasses_\u001b[0m\u001b[0;34m)\u001b[0m\u001b[0;34m\u001b[0m\u001b[0;34m\u001b[0m\u001b[0m\n\u001b[0m\u001b[1;32m      6\u001b[0m \u001b[0mdisp\u001b[0m\u001b[0;34m.\u001b[0m\u001b[0mplot\u001b[0m\u001b[0;34m(\u001b[0m\u001b[0;34m)\u001b[0m\u001b[0;34m\u001b[0m\u001b[0;34m\u001b[0m\u001b[0m\n\u001b[1;32m      7\u001b[0m \u001b[0mplt\u001b[0m\u001b[0;34m.\u001b[0m\u001b[0mshow\u001b[0m\u001b[0;34m(\u001b[0m\u001b[0;34m)\u001b[0m\u001b[0;34m\u001b[0m\u001b[0;34m\u001b[0m\u001b[0m\n",
            "\u001b[0;31mNameError\u001b[0m: name 'ab' is not defined"
          ]
        }
      ],
      "source": [
        "# definição das variáveis utilizadas na matriz de confusão \n",
        "y_true = y_test\n",
        "cm = confusion_matrix(y_true, y_pred, normalize='all')\n",
        "# matriz\n",
        "disp = ConfusionMatrixDisplay(confusion_matrix=cm, display_labels=ab.classes_)\n",
        "disp.plot()\n",
        "plt.show()"
      ]
    },
    {
      "cell_type": "code",
      "execution_count": null,
      "metadata": {
        "id": "XxwoFNLfq9Dj"
      },
      "outputs": [],
      "source": [
        "## instanciação do objeto e treinamento do modelo SVM Sem balanceamento\n",
        "svm = SVC().fit(x_train, y_train)\n",
        "# predição do modelo\n",
        "y_pred = svm.predict(x_test)\n",
        "metricas(svm)"
      ]
    },
    {
      "cell_type": "code",
      "execution_count": null,
      "metadata": {
        "id": "R7vONZYEy6xK"
      },
      "outputs": [],
      "source": [
        "# definição das variáveis utilizadas na matriz de confusão \n",
        "y_true = y_test\n",
        "cm = confusion_matrix(y_true, y_pred, normalize='all')\n",
        "# matriz\n",
        "disp = ConfusionMatrixDisplay(confusion_matrix=cm, display_labels=knn.classes_)\n",
        "disp.plot()\n",
        "plt.show()"
      ]
    },
    {
      "cell_type": "markdown",
      "metadata": {
        "id": "TYsWKNDQy6xL"
      },
      "source": [
        "## AdaBoost"
      ]
    },
    {
      "cell_type": "code",
      "execution_count": null,
      "metadata": {
        "id": "7C8f8SDPy6xL"
      },
      "outputs": [],
      "source": [
        "# instanciação do objeto e treinamento do modelo Ada Boost # Sem balanceamento\n",
        "ab = AdaBoostClassifier().fit(x_train, y_train)\n",
        "# predição do modelo\n",
        "y_pred = ab.predict(x_test)\n",
        "metricas(ab)"
      ]
    },
    {
      "cell_type": "code",
      "execution_count": null,
      "metadata": {
        "id": "Zra9dL6krLXi"
      },
      "outputs": [],
      "source": [
        "# instanciação do objeto e treinamento do modelo Ada Boost\n",
        "ab = AdaBoostClassifier().fit(x_resampled, y_resampled)\n",
        "# predição do modelo\n",
        "y_pred = ab.predict(x_test)\n",
        "metricas(ab)"
      ]
    },
    {
      "cell_type": "code",
      "execution_count": null,
      "metadata": {
        "id": "K4e5ZuBky6xL"
      },
      "outputs": [],
      "source": [
        "# definição das variáveis utilizadas na matriz de confusão \n",
        "y_true = y_test\n",
        "cm = confusion_matrix(y_true, y_pred, normalize='all')\n",
        "# matriz\n",
        "disp = ConfusionMatrixDisplay(confusion_matrix=cm, display_labels=ab.classes_)\n",
        "disp.plot()\n",
        "plt.show()"
      ]
    },
    {
      "cell_type": "code",
      "execution_count": null,
      "metadata": {
        "id": "fucsok2QkvCm"
      },
      "outputs": [],
      "source": [
        "ab.feature_importances_"
      ]
    },
    {
      "cell_type": "code",
      "execution_count": null,
      "metadata": {
        "id": "6jvQzQLHlA1Q"
      },
      "outputs": [],
      "source": [
        "feats = pd.DataFrame(index=x.columns,data=ab.feature_importances_,columns=['Importance'])"
      ]
    },
    {
      "cell_type": "code",
      "execution_count": null,
      "metadata": {
        "id": "KqdiwpT9lH9r"
      },
      "outputs": [],
      "source": [
        "feats"
      ]
    },
    {
      "cell_type": "code",
      "execution_count": null,
      "metadata": {
        "id": "0DLo_aYQlJ_k"
      },
      "outputs": [],
      "source": [
        "imp_feats = feats[feats['Importance']>0]"
      ]
    },
    {
      "cell_type": "code",
      "execution_count": null,
      "metadata": {
        "id": "U1A143eVlLtV"
      },
      "outputs": [],
      "source": [
        "imp_feats"
      ]
    },
    {
      "cell_type": "code",
      "execution_count": null,
      "metadata": {
        "id": "w_ZFuPV7lOF3"
      },
      "outputs": [],
      "source": [
        "imp_feats = imp_feats.sort_values(\"Importance\")"
      ]
    },
    {
      "cell_type": "code",
      "execution_count": null,
      "metadata": {
        "id": "JNrArYc8lPpP"
      },
      "outputs": [],
      "source": [
        "plt.figure(figsize=(14,6),dpi=200)\n",
        "sns.barplot(data=imp_feats.sort_values('Importance'),x=imp_feats.sort_values('Importance').index,y='Importance')\n",
        "\n",
        "plt.xticks(rotation=90);"
      ]
    },
    {
      "cell_type": "markdown",
      "metadata": {
        "id": "5MyqcAWxy6xL"
      },
      "source": [
        "## Extra Trees"
      ]
    },
    {
      "cell_type": "code",
      "execution_count": null,
      "metadata": {
        "id": "bBQcZsTzy6xL"
      },
      "outputs": [],
      "source": [
        "# instanciação do objeto e treinamento do modelo Extra Trees\n",
        "et = ExtraTreesClassifier().fit(x_train, y_train)\n",
        "# predição do modelo\n",
        "y_pred = et.predict(x_test)\n",
        "metricas(et)"
      ]
    },
    {
      "cell_type": "code",
      "execution_count": null,
      "metadata": {
        "id": "LhHZU9pzy6xL"
      },
      "outputs": [],
      "source": [
        "# definição das variáveis utilizadas na matriz de confusão \n",
        "y_true = y_test\n",
        "cm = confusion_matrix(y_true, y_pred, normalize='all')\n",
        "# matriz\n",
        "disp = ConfusionMatrixDisplay(confusion_matrix=cm, display_labels=knn.classes_)\n",
        "disp.plot()\n",
        "plt.show()"
      ]
    }
  ],
  "metadata": {
    "colab": {
      "collapsed_sections": [],
      "provenance": []
    },
    "kernelspec": {
      "display_name": "Python 3",
      "name": "python3"
    },
    "language_info": {
      "name": "python"
    }
  },
  "nbformat": 4,
  "nbformat_minor": 0
}