{
  "cells": [
    {
      "cell_type": "code",
      "execution_count": null,
      "metadata": {
        "id": "6LZKg3jYay3J"
      },
      "outputs": [],
      "source": [
        "import pandas as pd\n",
        "import numpy as np\n",
        "import seaborn as sns"
      ]
    },
    {
      "cell_type": "markdown",
      "metadata": {
        "id": "3b4D6C6cXgnB"
      },
      "source": [
        "#IMPORTANDO FEATURES"
      ]
    },
    {
      "cell_type": "code",
      "execution_count": null,
      "metadata": {
        "colab": {
          "base_uri": "https://localhost:8080/",
          "height": 480
        },
        "id": "dFbqcDOhVzhj",
        "outputId": "9cdb4411-98fd-4bb8-9328-78f384a20200"
      },
      "outputs": [
        {
          "output_type": "stream",
          "name": "stderr",
          "text": [
            "/usr/local/lib/python3.7/dist-packages/ipykernel_launcher.py:9: FutureWarning: In a future version of pandas all arguments of DataFrame.drop except for the argument 'labels' will be keyword-only\n",
            "  if __name__ == '__main__':\n"
          ]
        },
        {
          "output_type": "display_data",
          "data": {
            "text/plain": [
              "             ID  TOTAL_RESPONSE_TIME  PERMANENT_BLOCK  RT_PUNISHED_ORDERS  \\\n",
              "0       1286316            3769249.0                0                44.0   \n",
              "1       1110698            5043094.0                0                 2.0   \n",
              "2        284886                  0.0                0                 0.0   \n",
              "3       1036587           14408076.0                0                19.0   \n",
              "4        106854             472084.0                0                 9.0   \n",
              "...         ...                  ...              ...                 ...   \n",
              "204184    33249                  0.0                0                 2.0   \n",
              "204185    33203                  0.0                0                22.0   \n",
              "204186    33194                  0.0                0                24.0   \n",
              "204187    33161                  0.0                0                31.0   \n",
              "204188    33052                  0.0                0                 1.0   \n",
              "\n",
              "        CHURN  TOTAL_ORDERS  ORDERS_DONE_RATE  YEARLY_EARNINGS  \\\n",
              "0           1        1091.0          0.955087         12936.28   \n",
              "1           1           0.0          0.000000            55.56   \n",
              "2           1          27.0          1.000000           106.84   \n",
              "3           1         190.0          0.942105          2016.36   \n",
              "4           1         132.0          0.931818           140.13   \n",
              "...       ...           ...               ...              ...   \n",
              "204184      0        1251.0          0.947242             0.00   \n",
              "204185      0         355.0          0.952113          2281.96   \n",
              "204186      0        3251.0          0.984620         42610.58   \n",
              "204187      0        2684.0          0.978018          9534.77   \n",
              "204188      0           3.0          0.000000             0.00   \n",
              "\n",
              "        DISTANCE_PER_ORDER  \n",
              "0                 3.446071  \n",
              "1                 1.435829  \n",
              "2                 3.125364  \n",
              "3                 3.386037  \n",
              "4                 2.870784  \n",
              "...                    ...  \n",
              "204184            6.697244  \n",
              "204185            2.136435  \n",
              "204186            3.796884  \n",
              "204187            3.792348  \n",
              "204188            4.116738  \n",
              "\n",
              "[204189 rows x 9 columns]"
            ],
            "text/html": [
              "\n",
              "  <div id=\"df-3a1c253a-890e-4471-9606-50717fb7f7b2\">\n",
              "    <div class=\"colab-df-container\">\n",
              "      <div>\n",
              "<style scoped>\n",
              "    .dataframe tbody tr th:only-of-type {\n",
              "        vertical-align: middle;\n",
              "    }\n",
              "\n",
              "    .dataframe tbody tr th {\n",
              "        vertical-align: top;\n",
              "    }\n",
              "\n",
              "    .dataframe thead th {\n",
              "        text-align: right;\n",
              "    }\n",
              "</style>\n",
              "<table border=\"1\" class=\"dataframe\">\n",
              "  <thead>\n",
              "    <tr style=\"text-align: right;\">\n",
              "      <th></th>\n",
              "      <th>ID</th>\n",
              "      <th>TOTAL_RESPONSE_TIME</th>\n",
              "      <th>PERMANENT_BLOCK</th>\n",
              "      <th>RT_PUNISHED_ORDERS</th>\n",
              "      <th>CHURN</th>\n",
              "      <th>TOTAL_ORDERS</th>\n",
              "      <th>ORDERS_DONE_RATE</th>\n",
              "      <th>YEARLY_EARNINGS</th>\n",
              "      <th>DISTANCE_PER_ORDER</th>\n",
              "    </tr>\n",
              "  </thead>\n",
              "  <tbody>\n",
              "    <tr>\n",
              "      <th>0</th>\n",
              "      <td>1286316</td>\n",
              "      <td>3769249.0</td>\n",
              "      <td>0</td>\n",
              "      <td>44.0</td>\n",
              "      <td>1</td>\n",
              "      <td>1091.0</td>\n",
              "      <td>0.955087</td>\n",
              "      <td>12936.28</td>\n",
              "      <td>3.446071</td>\n",
              "    </tr>\n",
              "    <tr>\n",
              "      <th>1</th>\n",
              "      <td>1110698</td>\n",
              "      <td>5043094.0</td>\n",
              "      <td>0</td>\n",
              "      <td>2.0</td>\n",
              "      <td>1</td>\n",
              "      <td>0.0</td>\n",
              "      <td>0.000000</td>\n",
              "      <td>55.56</td>\n",
              "      <td>1.435829</td>\n",
              "    </tr>\n",
              "    <tr>\n",
              "      <th>2</th>\n",
              "      <td>284886</td>\n",
              "      <td>0.0</td>\n",
              "      <td>0</td>\n",
              "      <td>0.0</td>\n",
              "      <td>1</td>\n",
              "      <td>27.0</td>\n",
              "      <td>1.000000</td>\n",
              "      <td>106.84</td>\n",
              "      <td>3.125364</td>\n",
              "    </tr>\n",
              "    <tr>\n",
              "      <th>3</th>\n",
              "      <td>1036587</td>\n",
              "      <td>14408076.0</td>\n",
              "      <td>0</td>\n",
              "      <td>19.0</td>\n",
              "      <td>1</td>\n",
              "      <td>190.0</td>\n",
              "      <td>0.942105</td>\n",
              "      <td>2016.36</td>\n",
              "      <td>3.386037</td>\n",
              "    </tr>\n",
              "    <tr>\n",
              "      <th>4</th>\n",
              "      <td>106854</td>\n",
              "      <td>472084.0</td>\n",
              "      <td>0</td>\n",
              "      <td>9.0</td>\n",
              "      <td>1</td>\n",
              "      <td>132.0</td>\n",
              "      <td>0.931818</td>\n",
              "      <td>140.13</td>\n",
              "      <td>2.870784</td>\n",
              "    </tr>\n",
              "    <tr>\n",
              "      <th>...</th>\n",
              "      <td>...</td>\n",
              "      <td>...</td>\n",
              "      <td>...</td>\n",
              "      <td>...</td>\n",
              "      <td>...</td>\n",
              "      <td>...</td>\n",
              "      <td>...</td>\n",
              "      <td>...</td>\n",
              "      <td>...</td>\n",
              "    </tr>\n",
              "    <tr>\n",
              "      <th>204184</th>\n",
              "      <td>33249</td>\n",
              "      <td>0.0</td>\n",
              "      <td>0</td>\n",
              "      <td>2.0</td>\n",
              "      <td>0</td>\n",
              "      <td>1251.0</td>\n",
              "      <td>0.947242</td>\n",
              "      <td>0.00</td>\n",
              "      <td>6.697244</td>\n",
              "    </tr>\n",
              "    <tr>\n",
              "      <th>204185</th>\n",
              "      <td>33203</td>\n",
              "      <td>0.0</td>\n",
              "      <td>0</td>\n",
              "      <td>22.0</td>\n",
              "      <td>0</td>\n",
              "      <td>355.0</td>\n",
              "      <td>0.952113</td>\n",
              "      <td>2281.96</td>\n",
              "      <td>2.136435</td>\n",
              "    </tr>\n",
              "    <tr>\n",
              "      <th>204186</th>\n",
              "      <td>33194</td>\n",
              "      <td>0.0</td>\n",
              "      <td>0</td>\n",
              "      <td>24.0</td>\n",
              "      <td>0</td>\n",
              "      <td>3251.0</td>\n",
              "      <td>0.984620</td>\n",
              "      <td>42610.58</td>\n",
              "      <td>3.796884</td>\n",
              "    </tr>\n",
              "    <tr>\n",
              "      <th>204187</th>\n",
              "      <td>33161</td>\n",
              "      <td>0.0</td>\n",
              "      <td>0</td>\n",
              "      <td>31.0</td>\n",
              "      <td>0</td>\n",
              "      <td>2684.0</td>\n",
              "      <td>0.978018</td>\n",
              "      <td>9534.77</td>\n",
              "      <td>3.792348</td>\n",
              "    </tr>\n",
              "    <tr>\n",
              "      <th>204188</th>\n",
              "      <td>33052</td>\n",
              "      <td>0.0</td>\n",
              "      <td>0</td>\n",
              "      <td>1.0</td>\n",
              "      <td>0</td>\n",
              "      <td>3.0</td>\n",
              "      <td>0.000000</td>\n",
              "      <td>0.00</td>\n",
              "      <td>4.116738</td>\n",
              "    </tr>\n",
              "  </tbody>\n",
              "</table>\n",
              "<p>204189 rows × 9 columns</p>\n",
              "</div>\n",
              "      <button class=\"colab-df-convert\" onclick=\"convertToInteractive('df-3a1c253a-890e-4471-9606-50717fb7f7b2')\"\n",
              "              title=\"Convert this dataframe to an interactive table.\"\n",
              "              style=\"display:none;\">\n",
              "        \n",
              "  <svg xmlns=\"http://www.w3.org/2000/svg\" height=\"24px\"viewBox=\"0 0 24 24\"\n",
              "       width=\"24px\">\n",
              "    <path d=\"M0 0h24v24H0V0z\" fill=\"none\"/>\n",
              "    <path d=\"M18.56 5.44l.94 2.06.94-2.06 2.06-.94-2.06-.94-.94-2.06-.94 2.06-2.06.94zm-11 1L8.5 8.5l.94-2.06 2.06-.94-2.06-.94L8.5 2.5l-.94 2.06-2.06.94zm10 10l.94 2.06.94-2.06 2.06-.94-2.06-.94-.94-2.06-.94 2.06-2.06.94z\"/><path d=\"M17.41 7.96l-1.37-1.37c-.4-.4-.92-.59-1.43-.59-.52 0-1.04.2-1.43.59L10.3 9.45l-7.72 7.72c-.78.78-.78 2.05 0 2.83L4 21.41c.39.39.9.59 1.41.59.51 0 1.02-.2 1.41-.59l7.78-7.78 2.81-2.81c.8-.78.8-2.07 0-2.86zM5.41 20L4 18.59l7.72-7.72 1.47 1.35L5.41 20z\"/>\n",
              "  </svg>\n",
              "      </button>\n",
              "      \n",
              "  <style>\n",
              "    .colab-df-container {\n",
              "      display:flex;\n",
              "      flex-wrap:wrap;\n",
              "      gap: 12px;\n",
              "    }\n",
              "\n",
              "    .colab-df-convert {\n",
              "      background-color: #E8F0FE;\n",
              "      border: none;\n",
              "      border-radius: 50%;\n",
              "      cursor: pointer;\n",
              "      display: none;\n",
              "      fill: #1967D2;\n",
              "      height: 32px;\n",
              "      padding: 0 0 0 0;\n",
              "      width: 32px;\n",
              "    }\n",
              "\n",
              "    .colab-df-convert:hover {\n",
              "      background-color: #E2EBFA;\n",
              "      box-shadow: 0px 1px 2px rgba(60, 64, 67, 0.3), 0px 1px 3px 1px rgba(60, 64, 67, 0.15);\n",
              "      fill: #174EA6;\n",
              "    }\n",
              "\n",
              "    [theme=dark] .colab-df-convert {\n",
              "      background-color: #3B4455;\n",
              "      fill: #D2E3FC;\n",
              "    }\n",
              "\n",
              "    [theme=dark] .colab-df-convert:hover {\n",
              "      background-color: #434B5C;\n",
              "      box-shadow: 0px 1px 3px 1px rgba(0, 0, 0, 0.15);\n",
              "      filter: drop-shadow(0px 1px 2px rgba(0, 0, 0, 0.3));\n",
              "      fill: #FFFFFF;\n",
              "    }\n",
              "  </style>\n",
              "\n",
              "      <script>\n",
              "        const buttonEl =\n",
              "          document.querySelector('#df-3a1c253a-890e-4471-9606-50717fb7f7b2 button.colab-df-convert');\n",
              "        buttonEl.style.display =\n",
              "          google.colab.kernel.accessAllowed ? 'block' : 'none';\n",
              "\n",
              "        async function convertToInteractive(key) {\n",
              "          const element = document.querySelector('#df-3a1c253a-890e-4471-9606-50717fb7f7b2');\n",
              "          const dataTable =\n",
              "            await google.colab.kernel.invokeFunction('convertToInteractive',\n",
              "                                                     [key], {});\n",
              "          if (!dataTable) return;\n",
              "\n",
              "          const docLinkHtml = 'Like what you see? Visit the ' +\n",
              "            '<a target=\"_blank\" href=https://colab.research.google.com/notebooks/data_table.ipynb>data table notebook</a>'\n",
              "            + ' to learn more about interactive tables.';\n",
              "          element.innerHTML = '';\n",
              "          dataTable['output_type'] = 'display_data';\n",
              "          await google.colab.output.renderOutput(dataTable, element);\n",
              "          const docLink = document.createElement('div');\n",
              "          docLink.innerHTML = docLinkHtml;\n",
              "          element.appendChild(docLink);\n",
              "        }\n",
              "      </script>\n",
              "    </div>\n",
              "  </div>\n",
              "  "
            ]
          },
          "metadata": {}
        }
      ],
      "source": [
        "import pandas as pd\n",
        "\n",
        "features = ['ID', 'TOTAL_RESPONSE_TIME', 'YEARLY_EARNINGS', 'DISTANCE_PER_ORDER', 'ORDERS_DONE_RATE', 'TOTAL_ORDERS', 'RT_PUNISHED_ORDERS', 'PERMANENT_BLOCK', 'CHURN']\n",
        "\n",
        "target = 'CHURN'\n",
        "\n",
        "dataframe = pd.read_csv('/content/drive/Shareddrives/Grupo Rappitendeiros/Derivações/churn_all_columns.csv')\n",
        "\n",
        "dataframe = dataframe.drop(dataframe.columns.difference(features), 1)\n",
        "\n",
        "dataframe.replace({True: 1, False: 0}, inplace = True)\n",
        "\n",
        "display(dataframe)\n",
        "\n",
        "x = dataframe.drop(target, axis=1)\n",
        "\n",
        "y = dataframe[target]"
      ]
    },
    {
      "cell_type": "markdown",
      "metadata": {
        "id": "8TrJ_lMaYh8P"
      },
      "source": [
        "#SEPARANDO E NORMALIZANDO"
      ]
    },
    {
      "cell_type": "code",
      "execution_count": null,
      "metadata": {
        "id": "uSl64Zb8XqDk"
      },
      "outputs": [],
      "source": [
        "from sklearn.model_selection import train_test_split\n",
        "\n",
        "x_train, x_test, y_train, y_test = train_test_split(x, y, test_size=0.3, random_state=1)"
      ]
    },
    {
      "cell_type": "markdown",
      "metadata": {
        "id": "jw_H5SGUYzZ9"
      },
      "source": [
        "##NORMALIZANDO COM MINMAX()"
      ]
    },
    {
      "cell_type": "code",
      "execution_count": null,
      "metadata": {
        "id": "dwEsa76PYys6"
      },
      "outputs": [],
      "source": [
        "from sklearn.preprocessing import MinMaxScaler\n",
        "\n",
        "scaler = MinMaxScaler()\n",
        "\n",
        "x_train[['TOTAL_RESPONSE_TIME', 'YEARLY_EARNINGS', 'DISTANCE_PER_ORDER', 'ORDERS_DONE_RATE', 'TOTAL_ORDERS', 'RT_PUNISHED_ORDERS']] = scaler.fit_transform(x_train[['TOTAL_RESPONSE_TIME', 'YEARLY_EARNINGS', 'DISTANCE_PER_ORDER', 'ORDERS_DONE_RATE', 'TOTAL_ORDERS', 'RT_PUNISHED_ORDERS']])\n",
        "\n",
        "x_test[['TOTAL_RESPONSE_TIME', 'YEARLY_EARNINGS', 'DISTANCE_PER_ORDER', 'ORDERS_DONE_RATE', 'TOTAL_ORDERS', 'RT_PUNISHED_ORDERS']] = scaler.transform(x_test[['TOTAL_RESPONSE_TIME', 'YEARLY_EARNINGS', 'DISTANCE_PER_ORDER', 'ORDERS_DONE_RATE', 'TOTAL_ORDERS', 'RT_PUNISHED_ORDERS']])"
      ]
    },
    {
      "cell_type": "markdown",
      "source": [],
      "metadata": {
        "id": "UJttza5zMLU4"
      }
    },
    {
      "cell_type": "markdown",
      "metadata": {
        "id": "diSkpXO6Y8i4"
      },
      "source": [
        "#BALANCEANDO"
      ]
    },
    {
      "cell_type": "code",
      "execution_count": null,
      "metadata": {
        "id": "13b_uYQBY7Ne"
      },
      "outputs": [],
      "source": [
        "from imblearn.under_sampling import RandomUnderSampler\n",
        "\n",
        "ENN = RandomUnderSampler()\n",
        "x_enn_train, y_enn_train = ENN.fit_resample(x_train, y_train)"
      ]
    },
    {
      "cell_type": "markdown",
      "metadata": {
        "id": "FpGdnuYQZZTa"
      },
      "source": [
        "#MÉTRICAS"
      ]
    },
    {
      "cell_type": "code",
      "execution_count": null,
      "metadata": {
        "id": "CxZFY-7pZhtz"
      },
      "outputs": [],
      "source": [
        "def metricas_enn(modelo):\n",
        "  from sklearn.metrics import recall_score, precision_score, f1_score\n",
        "  print('Acuracidade (treino): ', modelo.score(x_enn_train, y_enn_train))\n",
        "  print('Acuracidade (teste): ', modelo.score(x_test, y_test))\n",
        "  print('Revocação: ', recall_score(y_test, y_pred))\n",
        "  print('Precisão: ', precision_score(y_test, y_pred))\n",
        "  print('F1_score: ', f1_score(y_test, y_pred))"
      ]
    },
    {
      "cell_type": "markdown",
      "metadata": {
        "id": "8pUG--fXZtcv"
      },
      "source": [
        "#MODELO"
      ]
    },
    {
      "cell_type": "code",
      "execution_count": null,
      "metadata": {
        "colab": {
          "base_uri": "https://localhost:8080/"
        },
        "id": "uEwF-BybZvKT",
        "outputId": "1c6b0fb5-acab-4bbe-fa10-186a2f93ceb7"
      },
      "outputs": [
        {
          "output_type": "stream",
          "name": "stdout",
          "text": [
            "Fitting 5 folds for each of 10 candidates, totalling 50 fits\n"
          ]
        }
      ],
      "source": [
        "from sklearn.model_selection import RandomizedSearchCV, GridSearchCV\n",
        "import xgboost\n",
        "params={\n",
        " \"learning_rate\"    : [0.05, 0.10, 0.15, 0.20, 0.25, 0.30 ] ,\n",
        " \"max_depth\"        : [ 3, 4, 5, 6, 8, 10, 12, 15],\n",
        " \"min_child_weight\" : [ 1, 3, 5, 7 ],\n",
        " \"gamma\"            : [ 0.0, 0.1, 0.2 , 0.3, 0.4 ],\n",
        " \"colsample_bytree\" : [ 0.3, 0.4, 0.5 , 0.7 ]\n",
        "}\n",
        "\n",
        "xg=xgboost.XGBClassifier()\n",
        "\n",
        "grid = RandomizedSearchCV(xg, param_distributions=params,scoring='roc_auc',n_jobs=-1,cv=5,verbose=3)\n",
        "\n",
        "xgmodel = grid.fit(x_enn_train, y_enn_train)\n"
      ]
    },
    {
      "cell_type": "code",
      "source": [
        "y_pred = xgmodel.predict(x_test)\n",
        "metricas_enn(xgmodel)"
      ],
      "metadata": {
        "colab": {
          "base_uri": "https://localhost:8080/"
        },
        "id": "bNTeqLjL1Jg3",
        "outputId": "1c96f16d-9fad-41bd-e29f-d661163763a3"
      },
      "execution_count": null,
      "outputs": [
        {
          "output_type": "stream",
          "name": "stdout",
          "text": [
            "Acuracidade (treino):  0.9856997525567898\n",
            "Acuracidade (teste):  0.982821740407744\n",
            "Revocação:  0.9201130909330002\n",
            "Precisão:  0.9734505066431701\n",
            "F1_score:  0.9460306014376817\n"
          ]
        }
      ]
    },
    {
      "cell_type": "code",
      "source": [
        "xgmodel.best_estimator_"
      ],
      "metadata": {
        "colab": {
          "base_uri": "https://localhost:8080/"
        },
        "id": "AldEy2414y4R",
        "outputId": "bdbd9481-76fc-40af-8781-f3090143d33f"
      },
      "execution_count": null,
      "outputs": [
        {
          "output_type": "execute_result",
          "data": {
            "text/plain": [
              "XGBClassifier(colsample_bytree=0.7, gamma=0.0, learning_rate=0.05, max_depth=8)"
            ]
          },
          "metadata": {},
          "execution_count": 156
        }
      ]
    },
    {
      "cell_type": "code",
      "source": [
        "pd.DataFrame(x_train)"
      ],
      "metadata": {
        "colab": {
          "base_uri": "https://localhost:8080/",
          "height": 424
        },
        "id": "wrnwIoxSLe_L",
        "outputId": "bbf568ff-96a8-4c52-9aa1-92a5ae75ec11"
      },
      "execution_count": null,
      "outputs": [
        {
          "output_type": "execute_result",
          "data": {
            "text/plain": [
              "             ID  TOTAL_RESPONSE_TIME  PERMANENT_BLOCK  RT_PUNISHED_ORDERS  \\\n",
              "40391    493272             0.003660                0            0.080420   \n",
              "66499    683305             0.000054                0            0.003497   \n",
              "84857    328683             0.000087                0            0.000000   \n",
              "150077  1113540             0.000000                0            0.000000   \n",
              "183866  1052279             0.000000                0            0.024476   \n",
              "...         ...                  ...              ...                 ...   \n",
              "73349   1145052             0.000018                0            0.010490   \n",
              "109259  1391521             0.000000                0            0.000000   \n",
              "50057    570548             0.000768                0            0.000000   \n",
              "5192     956645             0.001533                0            0.080420   \n",
              "128037  1388490             0.000000                0            0.003497   \n",
              "\n",
              "        TOTAL_ORDERS  ORDERS_DONE_RATE  YEARLY_EARNINGS  DISTANCE_PER_ORDER  \n",
              "40391       0.013421          0.812500         0.002536            0.001360  \n",
              "66499       0.081996          0.975703         0.001307            0.002338  \n",
              "84857       0.000210          1.000000         0.000046            0.002549  \n",
              "150077      0.000105          1.000000         0.000024            0.000847  \n",
              "183866      0.021076          0.975124         0.007630            0.002662  \n",
              "...              ...               ...              ...                 ...  \n",
              "73349       0.000000          0.000000         0.000000            0.000000  \n",
              "109259      0.000524          1.000000         0.000095            0.001761  \n",
              "50057       0.198700          0.966755         0.000128            0.001575  \n",
              "5192        0.039425          0.978723         0.012201            0.001677  \n",
              "128037      0.000210          1.000000         0.000083            0.001086  \n",
              "\n",
              "[142932 rows x 8 columns]"
            ],
            "text/html": [
              "\n",
              "  <div id=\"df-ded7e828-f499-46b3-9386-9866aeef6571\">\n",
              "    <div class=\"colab-df-container\">\n",
              "      <div>\n",
              "<style scoped>\n",
              "    .dataframe tbody tr th:only-of-type {\n",
              "        vertical-align: middle;\n",
              "    }\n",
              "\n",
              "    .dataframe tbody tr th {\n",
              "        vertical-align: top;\n",
              "    }\n",
              "\n",
              "    .dataframe thead th {\n",
              "        text-align: right;\n",
              "    }\n",
              "</style>\n",
              "<table border=\"1\" class=\"dataframe\">\n",
              "  <thead>\n",
              "    <tr style=\"text-align: right;\">\n",
              "      <th></th>\n",
              "      <th>ID</th>\n",
              "      <th>TOTAL_RESPONSE_TIME</th>\n",
              "      <th>PERMANENT_BLOCK</th>\n",
              "      <th>RT_PUNISHED_ORDERS</th>\n",
              "      <th>TOTAL_ORDERS</th>\n",
              "      <th>ORDERS_DONE_RATE</th>\n",
              "      <th>YEARLY_EARNINGS</th>\n",
              "      <th>DISTANCE_PER_ORDER</th>\n",
              "    </tr>\n",
              "  </thead>\n",
              "  <tbody>\n",
              "    <tr>\n",
              "      <th>40391</th>\n",
              "      <td>493272</td>\n",
              "      <td>0.003660</td>\n",
              "      <td>0</td>\n",
              "      <td>0.080420</td>\n",
              "      <td>0.013421</td>\n",
              "      <td>0.812500</td>\n",
              "      <td>0.002536</td>\n",
              "      <td>0.001360</td>\n",
              "    </tr>\n",
              "    <tr>\n",
              "      <th>66499</th>\n",
              "      <td>683305</td>\n",
              "      <td>0.000054</td>\n",
              "      <td>0</td>\n",
              "      <td>0.003497</td>\n",
              "      <td>0.081996</td>\n",
              "      <td>0.975703</td>\n",
              "      <td>0.001307</td>\n",
              "      <td>0.002338</td>\n",
              "    </tr>\n",
              "    <tr>\n",
              "      <th>84857</th>\n",
              "      <td>328683</td>\n",
              "      <td>0.000087</td>\n",
              "      <td>0</td>\n",
              "      <td>0.000000</td>\n",
              "      <td>0.000210</td>\n",
              "      <td>1.000000</td>\n",
              "      <td>0.000046</td>\n",
              "      <td>0.002549</td>\n",
              "    </tr>\n",
              "    <tr>\n",
              "      <th>150077</th>\n",
              "      <td>1113540</td>\n",
              "      <td>0.000000</td>\n",
              "      <td>0</td>\n",
              "      <td>0.000000</td>\n",
              "      <td>0.000105</td>\n",
              "      <td>1.000000</td>\n",
              "      <td>0.000024</td>\n",
              "      <td>0.000847</td>\n",
              "    </tr>\n",
              "    <tr>\n",
              "      <th>183866</th>\n",
              "      <td>1052279</td>\n",
              "      <td>0.000000</td>\n",
              "      <td>0</td>\n",
              "      <td>0.024476</td>\n",
              "      <td>0.021076</td>\n",
              "      <td>0.975124</td>\n",
              "      <td>0.007630</td>\n",
              "      <td>0.002662</td>\n",
              "    </tr>\n",
              "    <tr>\n",
              "      <th>...</th>\n",
              "      <td>...</td>\n",
              "      <td>...</td>\n",
              "      <td>...</td>\n",
              "      <td>...</td>\n",
              "      <td>...</td>\n",
              "      <td>...</td>\n",
              "      <td>...</td>\n",
              "      <td>...</td>\n",
              "    </tr>\n",
              "    <tr>\n",
              "      <th>73349</th>\n",
              "      <td>1145052</td>\n",
              "      <td>0.000018</td>\n",
              "      <td>0</td>\n",
              "      <td>0.010490</td>\n",
              "      <td>0.000000</td>\n",
              "      <td>0.000000</td>\n",
              "      <td>0.000000</td>\n",
              "      <td>0.000000</td>\n",
              "    </tr>\n",
              "    <tr>\n",
              "      <th>109259</th>\n",
              "      <td>1391521</td>\n",
              "      <td>0.000000</td>\n",
              "      <td>0</td>\n",
              "      <td>0.000000</td>\n",
              "      <td>0.000524</td>\n",
              "      <td>1.000000</td>\n",
              "      <td>0.000095</td>\n",
              "      <td>0.001761</td>\n",
              "    </tr>\n",
              "    <tr>\n",
              "      <th>50057</th>\n",
              "      <td>570548</td>\n",
              "      <td>0.000768</td>\n",
              "      <td>0</td>\n",
              "      <td>0.000000</td>\n",
              "      <td>0.198700</td>\n",
              "      <td>0.966755</td>\n",
              "      <td>0.000128</td>\n",
              "      <td>0.001575</td>\n",
              "    </tr>\n",
              "    <tr>\n",
              "      <th>5192</th>\n",
              "      <td>956645</td>\n",
              "      <td>0.001533</td>\n",
              "      <td>0</td>\n",
              "      <td>0.080420</td>\n",
              "      <td>0.039425</td>\n",
              "      <td>0.978723</td>\n",
              "      <td>0.012201</td>\n",
              "      <td>0.001677</td>\n",
              "    </tr>\n",
              "    <tr>\n",
              "      <th>128037</th>\n",
              "      <td>1388490</td>\n",
              "      <td>0.000000</td>\n",
              "      <td>0</td>\n",
              "      <td>0.003497</td>\n",
              "      <td>0.000210</td>\n",
              "      <td>1.000000</td>\n",
              "      <td>0.000083</td>\n",
              "      <td>0.001086</td>\n",
              "    </tr>\n",
              "  </tbody>\n",
              "</table>\n",
              "<p>142932 rows × 8 columns</p>\n",
              "</div>\n",
              "      <button class=\"colab-df-convert\" onclick=\"convertToInteractive('df-ded7e828-f499-46b3-9386-9866aeef6571')\"\n",
              "              title=\"Convert this dataframe to an interactive table.\"\n",
              "              style=\"display:none;\">\n",
              "        \n",
              "  <svg xmlns=\"http://www.w3.org/2000/svg\" height=\"24px\"viewBox=\"0 0 24 24\"\n",
              "       width=\"24px\">\n",
              "    <path d=\"M0 0h24v24H0V0z\" fill=\"none\"/>\n",
              "    <path d=\"M18.56 5.44l.94 2.06.94-2.06 2.06-.94-2.06-.94-.94-2.06-.94 2.06-2.06.94zm-11 1L8.5 8.5l.94-2.06 2.06-.94-2.06-.94L8.5 2.5l-.94 2.06-2.06.94zm10 10l.94 2.06.94-2.06 2.06-.94-2.06-.94-.94-2.06-.94 2.06-2.06.94z\"/><path d=\"M17.41 7.96l-1.37-1.37c-.4-.4-.92-.59-1.43-.59-.52 0-1.04.2-1.43.59L10.3 9.45l-7.72 7.72c-.78.78-.78 2.05 0 2.83L4 21.41c.39.39.9.59 1.41.59.51 0 1.02-.2 1.41-.59l7.78-7.78 2.81-2.81c.8-.78.8-2.07 0-2.86zM5.41 20L4 18.59l7.72-7.72 1.47 1.35L5.41 20z\"/>\n",
              "  </svg>\n",
              "      </button>\n",
              "      \n",
              "  <style>\n",
              "    .colab-df-container {\n",
              "      display:flex;\n",
              "      flex-wrap:wrap;\n",
              "      gap: 12px;\n",
              "    }\n",
              "\n",
              "    .colab-df-convert {\n",
              "      background-color: #E8F0FE;\n",
              "      border: none;\n",
              "      border-radius: 50%;\n",
              "      cursor: pointer;\n",
              "      display: none;\n",
              "      fill: #1967D2;\n",
              "      height: 32px;\n",
              "      padding: 0 0 0 0;\n",
              "      width: 32px;\n",
              "    }\n",
              "\n",
              "    .colab-df-convert:hover {\n",
              "      background-color: #E2EBFA;\n",
              "      box-shadow: 0px 1px 2px rgba(60, 64, 67, 0.3), 0px 1px 3px 1px rgba(60, 64, 67, 0.15);\n",
              "      fill: #174EA6;\n",
              "    }\n",
              "\n",
              "    [theme=dark] .colab-df-convert {\n",
              "      background-color: #3B4455;\n",
              "      fill: #D2E3FC;\n",
              "    }\n",
              "\n",
              "    [theme=dark] .colab-df-convert:hover {\n",
              "      background-color: #434B5C;\n",
              "      box-shadow: 0px 1px 3px 1px rgba(0, 0, 0, 0.15);\n",
              "      filter: drop-shadow(0px 1px 2px rgba(0, 0, 0, 0.3));\n",
              "      fill: #FFFFFF;\n",
              "    }\n",
              "  </style>\n",
              "\n",
              "      <script>\n",
              "        const buttonEl =\n",
              "          document.querySelector('#df-ded7e828-f499-46b3-9386-9866aeef6571 button.colab-df-convert');\n",
              "        buttonEl.style.display =\n",
              "          google.colab.kernel.accessAllowed ? 'block' : 'none';\n",
              "\n",
              "        async function convertToInteractive(key) {\n",
              "          const element = document.querySelector('#df-ded7e828-f499-46b3-9386-9866aeef6571');\n",
              "          const dataTable =\n",
              "            await google.colab.kernel.invokeFunction('convertToInteractive',\n",
              "                                                     [key], {});\n",
              "          if (!dataTable) return;\n",
              "\n",
              "          const docLinkHtml = 'Like what you see? Visit the ' +\n",
              "            '<a target=\"_blank\" href=https://colab.research.google.com/notebooks/data_table.ipynb>data table notebook</a>'\n",
              "            + ' to learn more about interactive tables.';\n",
              "          element.innerHTML = '';\n",
              "          dataTable['output_type'] = 'display_data';\n",
              "          await google.colab.output.renderOutput(dataTable, element);\n",
              "          const docLink = document.createElement('div');\n",
              "          docLink.innerHTML = docLinkHtml;\n",
              "          element.appendChild(docLink);\n",
              "        }\n",
              "      </script>\n",
              "    </div>\n",
              "  </div>\n",
              "  "
            ]
          },
          "metadata": {},
          "execution_count": 157
        }
      ]
    },
    {
      "cell_type": "code",
      "source": [
        "import xgboost\n",
        "xgmodel = xgboost.XGBClassifier(colsample_bytree=0.7, gamma=0.0, learning_rate=0.05, max_depth=8)\n",
        "xgmodel = xgmodel.fit(x_enn_train, y_enn_train)"
      ],
      "metadata": {
        "id": "8tpqkHVF442g"
      },
      "execution_count": null,
      "outputs": []
    },
    {
      "cell_type": "code",
      "source": [
        "metricas_enn(xgmodel)"
      ],
      "metadata": {
        "colab": {
          "base_uri": "https://localhost:8080/"
        },
        "id": "E8BDY-L-5shD",
        "outputId": "107d5149-d023-4e89-ec42-89cd6aaeddc7"
      },
      "execution_count": null,
      "outputs": [
        {
          "output_type": "stream",
          "name": "stdout",
          "text": [
            "Acuracidade (treino):  0.9288977569836246\n",
            "Acuracidade (teste):  0.921804854955352\n",
            "Revocação:  0.9201130909330002\n",
            "Precisão:  0.9734505066431701\n",
            "F1_score:  0.9460306014376817\n"
          ]
        }
      ]
    },
    {
      "cell_type": "markdown",
      "metadata": {
        "id": "qGgfEjxRbetA"
      },
      "source": [
        "##Matriz de confusão"
      ]
    },
    {
      "cell_type": "code",
      "source": [
        "from sklearn.metrics import confusion_matrix\n",
        "import matplotlib.pyplot as plt\n",
        "from sklearn.metrics import ConfusionMatrixDisplay\n",
        "\n",
        "cm = confusion_matrix(y_test, y_pred, normalize = 'all')\n",
        "\n",
        "disp = ConfusionMatrixDisplay(confusion_matrix=cm, display_labels=xgmodel.classes_)\n",
        "disp.plot()\n",
        "plt.show()"
      ],
      "metadata": {
        "colab": {
          "base_uri": "https://localhost:8080/",
          "height": 279
        },
        "id": "JT1gcgud3MJx",
        "outputId": "149260ac-6b6c-476a-92b9-fe9b1cad538d"
      },
      "execution_count": null,
      "outputs": [
        {
          "output_type": "display_data",
          "data": {
            "text/plain": [
              "<Figure size 432x288 with 2 Axes>"
            ],
            "image/png": "[encoded data removed]"
          },
          "metadata": {
            "needs_background": "light"
          }
        }
      ]
    },
    {
      "cell_type": "markdown",
      "metadata": {
        "id": "GspWz6jSbiWn"
      },
      "source": [
        "##Features importances"
      ]
    },
    {
      "cell_type": "code",
      "source": [
        "from matplotlib import pyplot as plt\n",
        "import seaborn as sns\n",
        "\n",
        "xgmodel.feature_importances_\n",
        "feats = pd.DataFrame(index=x.columns, data= xgmodel.feature_importances_, columns=['importance'])\n",
        "imp_feats = feats[feats['importance'] > 0]\n",
        "imp_feats = imp_feats.sort_values('importance')\n",
        "\n",
        "plt.figure(figsize=(14,6),dpi=200)\n",
        "sns.barplot(data=imp_feats.sort_values('importance'),x=imp_feats.sort_values('importance').index,y='importance')\n",
        "plt.xticks(rotation=90);"
      ],
      "metadata": {
        "colab": {
          "base_uri": "https://localhost:8080/",
          "height": 743
        },
        "id": "VQmVd69C3hwV",
        "outputId": "12a4ebda-a050-4eec-e83b-5745619d83e8"
      },
      "execution_count": null,
      "outputs": [
        {
          "output_type": "display_data",
          "data": {
            "text/plain": [
              "<Figure size 2800x1200 with 1 Axes>"
            ],
            "image/png": "[encoded data removed]"
          },
          "metadata": {
            "needs_background": "light"
          }
        }
      ]
    },
    {
      "cell_type": "markdown",
      "metadata": {
        "id": "lOWS8g_HbVmQ"
      },
      "source": [
        "#LOAD MODELO E NORMALIZAÇÃO"
      ]
    },
    {
      "cell_type": "code",
      "source": [
        "from joblib import dump\n",
        "\n",
        "dump(xgmodel, '/content/drive/Shareddrives/Grupo Rappitendeiros/Derivações/modeloxg.model')\n",
        "dump(scaler,'/content/drive/Shareddrives/Grupo Rappitendeiros/Derivações/scaler.scaler')"
      ],
      "metadata": {
        "colab": {
          "base_uri": "https://localhost:8080/"
        },
        "id": "YwXsMhDpEjQE",
        "outputId": "4ac521c9-0835-4083-817d-b0d9744e5e20"
      },
      "execution_count": null,
      "outputs": [
        {
          "output_type": "execute_result",
          "data": {
            "text/plain": [
              "['/content/drive/Shareddrives/Grupo Rappitendeiros/Derivações/scaler.scaler']"
            ]
          },
          "metadata": {},
          "execution_count": 168
        }
      ]
    },
    {
      "cell_type": "code",
      "source": [
        "dataframe['YEARLY_EARNINGS'].max(\n",
        "    \n",
        ")"
      ],
      "metadata": {
        "colab": {
          "base_uri": "https://localhost:8080/"
        },
        "id": "VNA5sM3GHcxA",
        "outputId": "9befc834-3a9f-4447-ec69-8f37ea28377b"
      },
      "execution_count": null,
      "outputs": [
        {
          "output_type": "execute_result",
          "data": {
            "text/plain": [
              "271757.48"
            ]
          },
          "metadata": {},
          "execution_count": 133
        }
      ]
    }
  ],
  "metadata": {
    "colab": {
      "provenance": []
    },
    "kernelspec": {
      "display_name": "Python 3",
      "name": "python3"
    },
    "language_info": {
      "name": "python"
    }
  },
  "nbformat": 4,
  "nbformat_minor": 0
}